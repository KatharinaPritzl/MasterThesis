{
 "cells": [
  {
   "cell_type": "code",
   "execution_count": 10,
   "id": "5c94e235",
   "metadata": {},
   "outputs": [],
   "source": [
    "import tensorflow"
   ]
  },
  {
   "cell_type": "code",
   "execution_count": 11,
   "id": "de79028c",
   "metadata": {},
   "outputs": [],
   "source": [
    "from numpy.random import seed\n",
    "seed(101)\n",
    "import tensorflow\n",
    "tensorflow.random.set_seed(101)"
   ]
  },
  {
   "cell_type": "code",
   "execution_count": 12,
   "id": "767be960",
   "metadata": {},
   "outputs": [],
   "source": [
    "import numpy as np \n",
    "import pandas as pd "
   ]
  },
  {
   "cell_type": "code",
   "execution_count": 13,
   "id": "1c5bd1e0",
   "metadata": {},
   "outputs": [],
   "source": [
    "df = pd.read_csv('cleaned_data/data_with_features.csv')\n",
    "df = df.drop(df.columns[0], axis = 1)"
   ]
  },
  {
   "cell_type": "code",
   "execution_count": 14,
   "id": "4f08a531",
   "metadata": {},
   "outputs": [],
   "source": [
    "steps = 20\n",
    "batch_size = 256"
   ]
  },
  {
   "cell_type": "code",
   "execution_count": 15,
   "id": "355076ee",
   "metadata": {},
   "outputs": [],
   "source": [
    "user_length = df['EthicaID'].value_counts().reset_index().rename({'EthicaID':'count', 'index': 'EthicaID'}, axis = 1)\n",
    "train_length = ((np.array(user_length['count'])//1.25) + (batch_size-(np.array(user_length['count'])//1.25)%batch_size)) + steps\n",
    "rest = np.array(user_length['count']) - train_length\n",
    "valid_length = (rest//2 - steps) + (batch_size-(((rest//2-steps)%batch_size))) + steps\n",
    "\n",
    "rest_2 = np.array(user_length['count']) -  train_length - valid_length\n",
    "test_length = (rest_2- steps - (rest_2 - steps)%batch_size) + steps"
   ]
  },
  {
   "cell_type": "code",
   "execution_count": 16,
   "id": "a2ed3b26",
   "metadata": {},
   "outputs": [],
   "source": [
    "#user_length"
   ]
  },
  {
   "cell_type": "code",
   "execution_count": 8,
   "id": "b1d2d922",
   "metadata": {},
   "outputs": [],
   "source": [
    "from matplotlib import pyplot as plt\n",
    "import seaborn as sns\n",
    "sns.set(rc = {'figure.figsize':(11,7)})\n",
    "sns.set_theme(style='white')"
   ]
  },
  {
   "cell_type": "code",
   "execution_count": 9,
   "id": "fba15c28",
   "metadata": {},
   "outputs": [
    {
     "data": {
      "image/png": "[encoded data removed]",
      "text/plain": [
       "<Figure size 864x576 with 1 Axes>"
      ]
     },
     "metadata": {},
     "output_type": "display_data"
    }
   ],
   "source": [
    "sns.set(rc = {'figure.figsize':(12,8)})\n",
    "sns.set(style='white', font_scale=1.3)\n",
    "hist = sns.histplot(user_length['count'].rename({'count': 'number of app events'}, axis = 1), color = 'dodgerblue')\n",
    "hist.set_xlabel('Number of app events')\n",
    "hist.figure.savefig(\"Distibution of the number of app records per user.png\")"
   ]
  },
  {
   "cell_type": "code",
   "execution_count": 20,
   "id": "984a5eb6",
   "metadata": {},
   "outputs": [
    {
     "data": {
      "text/plain": [
       "186"
      ]
     },
     "execution_count": 20,
     "metadata": {},
     "output_type": "execute_result"
    }
   ],
   "source": [
    "((np.array(user_length['count'])) - (valid_length + test_length + train_length) >= 0).sum()"
   ]
  },
  {
   "cell_type": "code",
   "execution_count": 21,
   "id": "7a9b40c3",
   "metadata": {},
   "outputs": [
    {
     "data": {
      "text/plain": [
       "22888.0"
      ]
     },
     "execution_count": 21,
     "metadata": {},
     "output_type": "execute_result"
    }
   ],
   "source": [
    "((np.array(user_length['count'])) - (valid_length + test_length + train_length)).sum()"
   ]
  },
  {
   "cell_type": "code",
   "execution_count": 22,
   "id": "351a737f",
   "metadata": {},
   "outputs": [
    {
     "data": {
      "text/plain": [
       "0.005178376612416791"
      ]
     },
     "execution_count": 22,
     "metadata": {},
     "output_type": "execute_result"
    }
   ],
   "source": [
    "((np.array(user_length['count'])) - (valid_length + test_length + train_length)).sum() / np.array(user_length['count']).sum() "
   ]
  },
  {
   "cell_type": "code",
   "execution_count": 23,
   "id": "35edf853",
   "metadata": {},
   "outputs": [],
   "source": [
    "train_batches = []\n",
    "train = df[0:0]\n",
    "\n",
    "for user, length in zip(user_length['EthicaID'], train_length):\n",
    "    length = int(length)\n",
    "    df_single_user = df.loc[df['EthicaID'] == user]\n",
    "    df_train = df_single_user[:length]\n",
    "    train = pd.concat([train.reset_index(drop= True), df_train.reset_index(drop = True)])\n",
    "    train_batches.append(len(df_train))  \n",
    "    \n",
    "valid_batches = []\n",
    "lst_valid = []\n",
    "\n",
    "for user, length_train, length_valid in zip(user_length['EthicaID'], train_length, valid_length):\n",
    "    length_train = int(length_train)\n",
    "    length_valid = int(length_valid)\n",
    "    df_single_user = df.loc[df['EthicaID'] == user]\n",
    "    df_valid = df_single_user[length_train: length_train+length_valid]\n",
    "    lst_valid.append(df_valid)\n",
    "    valid_batches.append(len(df_valid))\n",
    "    \n",
    "valid = pd.concat(lst_valid, axis = 0)\n",
    "del lst_valid\n",
    "\n",
    "test_batches = []\n",
    "lst_test = []\n",
    "\n",
    "for user, length_prev, length_test in zip(user_length['EthicaID'], train_length + valid_length, test_length):\n",
    "    length_prev = int(length_prev)\n",
    "    length_test = int(length_test)\n",
    "    df_single_user = df.loc[df['EthicaID'] == user]\n",
    "    df_test = df_single_user[length_prev: length_prev+length_test]\n",
    "    lst_test.append(df_test)\n",
    "    test_batches.append(len(df_test))\n",
    "\n",
    "test = pd.concat(lst_test, axis = 0)\n",
    "del lst_test"
   ]
  },
  {
   "cell_type": "code",
   "execution_count": 24,
   "id": "1d00d245",
   "metadata": {},
   "outputs": [],
   "source": [
    "batches = pd.DataFrame({'train': train_batches, 'validation': valid_batches, 'testing': test_batches}) "
   ]
  },
  {
   "cell_type": "code",
   "execution_count": 25,
   "id": "ccca2c6e",
   "metadata": {},
   "outputs": [
    {
     "data": {
      "text/html": [
       "<div>\n",
       "<style scoped>\n",
       "    .dataframe tbody tr th:only-of-type {\n",
       "        vertical-align: middle;\n",
       "    }\n",
       "\n",
       "    .dataframe tbody tr th {\n",
       "        vertical-align: top;\n",
       "    }\n",
       "\n",
       "    .dataframe thead th {\n",
       "        text-align: right;\n",
       "    }\n",
       "</style>\n",
       "<table border=\"1\" class=\"dataframe\">\n",
       "  <thead>\n",
       "    <tr style=\"text-align: right;\">\n",
       "      <th></th>\n",
       "      <th>train</th>\n",
       "      <th>validation</th>\n",
       "      <th>testing</th>\n",
       "    </tr>\n",
       "  </thead>\n",
       "  <tbody>\n",
       "    <tr>\n",
       "      <th>0</th>\n",
       "      <td>71173</td>\n",
       "      <td>8965</td>\n",
       "      <td>8709</td>\n",
       "    </tr>\n",
       "    <tr>\n",
       "      <th>1</th>\n",
       "      <td>64517</td>\n",
       "      <td>8197</td>\n",
       "      <td>7685</td>\n",
       "    </tr>\n",
       "    <tr>\n",
       "      <th>2</th>\n",
       "      <td>64261</td>\n",
       "      <td>7941</td>\n",
       "      <td>7685</td>\n",
       "    </tr>\n",
       "    <tr>\n",
       "      <th>3</th>\n",
       "      <td>55557</td>\n",
       "      <td>6917</td>\n",
       "      <td>6661</td>\n",
       "    </tr>\n",
       "    <tr>\n",
       "      <th>4</th>\n",
       "      <td>54021</td>\n",
       "      <td>6661</td>\n",
       "      <td>6405</td>\n",
       "    </tr>\n",
       "    <tr>\n",
       "      <th>...</th>\n",
       "      <td>...</td>\n",
       "      <td>...</td>\n",
       "      <td>...</td>\n",
       "    </tr>\n",
       "    <tr>\n",
       "      <th>181</th>\n",
       "      <td>4613</td>\n",
       "      <td>773</td>\n",
       "      <td>261</td>\n",
       "    </tr>\n",
       "    <tr>\n",
       "      <th>182</th>\n",
       "      <td>4613</td>\n",
       "      <td>517</td>\n",
       "      <td>261</td>\n",
       "    </tr>\n",
       "    <tr>\n",
       "      <th>183</th>\n",
       "      <td>4357</td>\n",
       "      <td>517</td>\n",
       "      <td>261</td>\n",
       "    </tr>\n",
       "    <tr>\n",
       "      <th>184</th>\n",
       "      <td>4101</td>\n",
       "      <td>517</td>\n",
       "      <td>261</td>\n",
       "    </tr>\n",
       "    <tr>\n",
       "      <th>185</th>\n",
       "      <td>4101</td>\n",
       "      <td>517</td>\n",
       "      <td>261</td>\n",
       "    </tr>\n",
       "  </tbody>\n",
       "</table>\n",
       "<p>186 rows × 3 columns</p>\n",
       "</div>"
      ],
      "text/plain": [
       "     train  validation  testing\n",
       "0    71173        8965     8709\n",
       "1    64517        8197     7685\n",
       "2    64261        7941     7685\n",
       "3    55557        6917     6661\n",
       "4    54021        6661     6405\n",
       "..     ...         ...      ...\n",
       "181   4613         773      261\n",
       "182   4613         517      261\n",
       "183   4357         517      261\n",
       "184   4101         517      261\n",
       "185   4101         517      261\n",
       "\n",
       "[186 rows x 3 columns]"
      ]
     },
     "execution_count": 25,
     "metadata": {},
     "output_type": "execute_result"
    }
   ],
   "source": [
    "batches"
   ]
  },
  {
   "cell_type": "code",
   "execution_count": 26,
   "id": "5a16a501",
   "metadata": {},
   "outputs": [
    {
     "data": {
      "text/plain": [
       "186"
      ]
     },
     "execution_count": 26,
     "metadata": {},
     "output_type": "execute_result"
    }
   ],
   "source": [
    "(user_length['count'] - (np.array(test_batches) + np.array(train_batches) + np.array(valid_batches)) >= 0).sum()"
   ]
  },
  {
   "cell_type": "code",
   "execution_count": 27,
   "id": "9643a4b7",
   "metadata": {},
   "outputs": [],
   "source": [
    "train.to_csv('cleaned_data/model_training_MQ&RQ1/training_data_each_user_batch256_steps5.csv')\n",
    "test.to_csv('cleaned_data/model_training_MQ&RQ1/testing_data_each_user_batch256_steps5.csv')\n",
    "valid.to_csv('cleaned_data/model_training_MQ&RQ1/validation_data_each_user_batch256_steps5.csv')\n",
    "batches.to_csv('cleaned_data/model_training_MQ&RQ1/batch_size_each_user_batch256_steps5.csv')"
   ]
  }
 ],
 "metadata": {
  "kernelspec": {
   "display_name": "Python 3 (ipykernel)",
   "language": "python",
   "name": "python3"
  },
  "language_info": {
   "codemirror_mode": {
    "name": "ipython",
    "version": 3
   },
   "file_extension": ".py",
   "mimetype": "text/x-python",
   "name": "python",
   "nbconvert_exporter": "python",
   "pygments_lexer": "ipython3",
   "version": "3.8.10"
  }
 },
 "nbformat": 4,
 "nbformat_minor": 5
}
