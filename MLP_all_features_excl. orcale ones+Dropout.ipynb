{
 "cells": [
  {
   "cell_type": "code",
   "execution_count": 1,
   "id": "HSFPYD6eksCW",
   "metadata": {
    "cell_id": "02e612d7-3826-4b74-b71d-09c947f0202d",
    "deepnote_cell_height": 405,
    "deepnote_cell_type": "code",
    "deepnote_to_be_reexecuted": false,
    "execution_millis": 0,
    "execution_start": 1650390990776,
    "id": "HSFPYD6eksCW",
    "source_hash": "7c47dc9e"
   },
   "outputs": [],
   "source": [
    "seed_value= 1\n",
    "\n",
    "import os\n",
    "os.environ['PYTHONHASHSEED']=str(seed_value)\n",
    "\n",
    "import random\n",
    "random.seed(seed_value)\n",
    "\n",
    "import numpy as np\n",
    "np.random.seed(seed_value)\n",
    "\n",
    "import tensorflow as tf\n",
    "tf.random.set_seed(seed_value)# for later versions: \n",
    "# tf.compat.v1.set_random_seed(seed_value)\n",
    "\n",
    "from keras import backend as K\n",
    "session_conf = tf.compat.v1.ConfigProto(intra_op_parallelism_threads=1, inter_op_parallelism_threads=1)\n",
    "sess = tf.compat.v1.Session(graph=tf.compat.v1.get_default_graph(), config=session_conf)\n",
    "tf.compat.v1.keras.backend.set_session(sess)"
   ]
  },
  {
   "cell_type": "code",
   "execution_count": 2,
   "id": "1IzZFAL2ksCb",
   "metadata": {
    "cell_id": "00001-c0c5d9b3-d642-4bee-abfb-cf0605cafaed",
    "deepnote_cell_height": 171,
    "deepnote_cell_type": "code",
    "deepnote_to_be_reexecuted": false,
    "execution_millis": 784,
    "execution_start": 1650390994496,
    "id": "1IzZFAL2ksCb",
    "source_hash": "b6a57486"
   },
   "outputs": [],
   "source": [
    "import pandas as pd\n",
    "from sklearn.preprocessing import LabelEncoder,MultiLabelBinarizer\n",
    "from sklearn.model_selection import train_test_split\n",
    "from keras.layers import Input, Reshape, Embedding, Concatenate, Dropout, Dense\n",
    "from keras.models import Model\n",
    "from keras.callbacks import EarlyStopping"
   ]
  },
  {
   "cell_type": "code",
   "execution_count": 3,
   "id": "zB_eOaVkksCc",
   "metadata": {
    "cell_id": "00002-cf0f08ec-d60b-46ba-914d-42b8942383cc",
    "deepnote_cell_height": 99,
    "deepnote_cell_type": "code",
    "deepnote_to_be_reexecuted": false,
    "execution_millis": 15976,
    "execution_start": 1650391008567,
    "id": "zB_eOaVkksCc",
    "source_hash": "63ca8ad8"
   },
   "outputs": [],
   "source": [
    "df = pd.read_csv('cleaned_data/data_with_features.csv')\n",
    "df = df.drop(df.columns[0], axis = 1)"
   ]
  },
  {
   "cell_type": "code",
   "execution_count": 4,
   "id": "d5e52c76",
   "metadata": {},
   "outputs": [],
   "source": [
    "#add right target\n",
    "df_lst = []\n",
    "\n",
    "for user in np.unique(df['EthicaID']): \n",
    "    df_single_user = df.loc[df['EthicaID'] == user]     \n",
    "    real_target = df_single_user[['target']][1:len(df_single_user)].rename({'target': 'real_target'}, axis = 1)\n",
    "    df_single_user = pd.concat([df_single_user.reset_index(drop = True), real_target.reset_index(drop = True)], axis =1)    \n",
    "    df_lst.append(df_single_user)"
   ]
  },
  {
   "cell_type": "code",
   "execution_count": 5,
   "id": "0e0f4877",
   "metadata": {},
   "outputs": [],
   "source": [
    "df_full = pd.concat(df_lst, axis = 0)"
   ]
  },
  {
   "cell_type": "code",
   "execution_count": 6,
   "id": "9f9786cd",
   "metadata": {},
   "outputs": [
    {
     "data": {
      "text/html": [
       "<div>\n",
       "<style scoped>\n",
       "    .dataframe tbody tr th:only-of-type {\n",
       "        vertical-align: middle;\n",
       "    }\n",
       "\n",
       "    .dataframe tbody tr th {\n",
       "        vertical-align: top;\n",
       "    }\n",
       "\n",
       "    .dataframe thead th {\n",
       "        text-align: right;\n",
       "    }\n",
       "</style>\n",
       "<table border=\"1\" class=\"dataframe\">\n",
       "  <thead>\n",
       "    <tr style=\"text-align: right;\">\n",
       "      <th></th>\n",
       "      <th>EthicaID</th>\n",
       "      <th>use_duration</th>\n",
       "      <th>duration_ongoing_session</th>\n",
       "      <th>time_to_next_app</th>\n",
       "      <th>time_to_next_app_t+1</th>\n",
       "      <th>age_category</th>\n",
       "      <th>sex</th>\n",
       "      <th>notification</th>\n",
       "      <th>battery</th>\n",
       "      <th>category</th>\n",
       "      <th>t+1 category</th>\n",
       "      <th>hours</th>\n",
       "      <th>weekday</th>\n",
       "      <th>geohash</th>\n",
       "      <th>location_cluster</th>\n",
       "      <th>target</th>\n",
       "      <th>real_target</th>\n",
       "    </tr>\n",
       "  </thead>\n",
       "  <tbody>\n",
       "    <tr>\n",
       "      <th>7277</th>\n",
       "      <td>User #25569</td>\n",
       "      <td>-0.237135</td>\n",
       "      <td>0.927877</td>\n",
       "      <td>-0.060989</td>\n",
       "      <td>-0.060731</td>\n",
       "      <td>17.749, 19.25</td>\n",
       "      <td>1</td>\n",
       "      <td>False</td>\n",
       "      <td>17.0</td>\n",
       "      <td>Social</td>\n",
       "      <td>Social</td>\n",
       "      <td>1</td>\n",
       "      <td>2</td>\n",
       "      <td>u15uq</td>\n",
       "      <td>1</td>\n",
       "      <td>medium</td>\n",
       "      <td>long</td>\n",
       "    </tr>\n",
       "    <tr>\n",
       "      <th>7278</th>\n",
       "      <td>User #25569</td>\n",
       "      <td>5.602708</td>\n",
       "      <td>0.935795</td>\n",
       "      <td>-0.060730</td>\n",
       "      <td>0.035432</td>\n",
       "      <td>17.749, 19.25</td>\n",
       "      <td>1</td>\n",
       "      <td>False</td>\n",
       "      <td>17.0</td>\n",
       "      <td>Social</td>\n",
       "      <td>Communication</td>\n",
       "      <td>1</td>\n",
       "      <td>2</td>\n",
       "      <td>u15uq</td>\n",
       "      <td>1</td>\n",
       "      <td>long</td>\n",
       "      <td>long</td>\n",
       "    </tr>\n",
       "    <tr>\n",
       "      <th>7279</th>\n",
       "      <td>User #25569</td>\n",
       "      <td>0.743716</td>\n",
       "      <td>-0.575649</td>\n",
       "      <td>0.035435</td>\n",
       "      <td>-0.061103</td>\n",
       "      <td>17.749, 19.25</td>\n",
       "      <td>1</td>\n",
       "      <td>False</td>\n",
       "      <td>27.0</td>\n",
       "      <td>Communication</td>\n",
       "      <td>Productivity</td>\n",
       "      <td>1</td>\n",
       "      <td>2</td>\n",
       "      <td>u15uq</td>\n",
       "      <td>1</td>\n",
       "      <td>long</td>\n",
       "      <td>long</td>\n",
       "    </tr>\n",
       "    <tr>\n",
       "      <th>7280</th>\n",
       "      <td>User #25569</td>\n",
       "      <td>-0.148606</td>\n",
       "      <td>-0.441971</td>\n",
       "      <td>-0.061102</td>\n",
       "      <td>-0.061125</td>\n",
       "      <td>17.749, 19.25</td>\n",
       "      <td>1</td>\n",
       "      <td>False</td>\n",
       "      <td>27.0</td>\n",
       "      <td>Productivity</td>\n",
       "      <td>Communication</td>\n",
       "      <td>1</td>\n",
       "      <td>2</td>\n",
       "      <td>u15uq</td>\n",
       "      <td>1</td>\n",
       "      <td>long</td>\n",
       "      <td>long</td>\n",
       "    </tr>\n",
       "    <tr>\n",
       "      <th>7281</th>\n",
       "      <td>User #25569</td>\n",
       "      <td>0.830987</td>\n",
       "      <td>-0.423806</td>\n",
       "      <td>-0.061124</td>\n",
       "      <td>NaN</td>\n",
       "      <td>17.749, 19.25</td>\n",
       "      <td>1</td>\n",
       "      <td>False</td>\n",
       "      <td>27.0</td>\n",
       "      <td>Communication</td>\n",
       "      <td>NaN</td>\n",
       "      <td>1</td>\n",
       "      <td>2</td>\n",
       "      <td>u15uq</td>\n",
       "      <td>1</td>\n",
       "      <td>long</td>\n",
       "      <td>NaN</td>\n",
       "    </tr>\n",
       "  </tbody>\n",
       "</table>\n",
       "</div>"
      ],
      "text/plain": [
       "         EthicaID  use_duration  duration_ongoing_session  time_to_next_app  \\\n",
       "7277  User #25569     -0.237135                  0.927877         -0.060989   \n",
       "7278  User #25569      5.602708                  0.935795         -0.060730   \n",
       "7279  User #25569      0.743716                 -0.575649          0.035435   \n",
       "7280  User #25569     -0.148606                 -0.441971         -0.061102   \n",
       "7281  User #25569      0.830987                 -0.423806         -0.061124   \n",
       "\n",
       "      time_to_next_app_t+1   age_category  sex  notification  battery  \\\n",
       "7277             -0.060731  17.749, 19.25    1         False     17.0   \n",
       "7278              0.035432  17.749, 19.25    1         False     17.0   \n",
       "7279             -0.061103  17.749, 19.25    1         False     27.0   \n",
       "7280             -0.061125  17.749, 19.25    1         False     27.0   \n",
       "7281                   NaN  17.749, 19.25    1         False     27.0   \n",
       "\n",
       "           category   t+1 category  hours  weekday geohash  location_cluster  \\\n",
       "7277         Social         Social      1        2   u15uq                 1   \n",
       "7278         Social  Communication      1        2   u15uq                 1   \n",
       "7279  Communication   Productivity      1        2   u15uq                 1   \n",
       "7280   Productivity  Communication      1        2   u15uq                 1   \n",
       "7281  Communication            NaN      1        2   u15uq                 1   \n",
       "\n",
       "      target real_target  \n",
       "7277  medium        long  \n",
       "7278    long        long  \n",
       "7279    long        long  \n",
       "7280    long        long  \n",
       "7281    long         NaN  "
      ]
     },
     "execution_count": 6,
     "metadata": {},
     "output_type": "execute_result"
    }
   ],
   "source": [
    "df_full.tail()"
   ]
  },
  {
   "cell_type": "code",
   "execution_count": 7,
   "id": "kSRA5aNtksCe",
   "metadata": {
    "cell_id": "00005-a32e43f9-d096-4181-8b68-460d18f965a8",
    "colab": {
     "base_uri": "https://localhost:8080/"
    },
    "deepnote_cell_height": 444.515625,
    "deepnote_cell_type": "code",
    "deepnote_output_heights": [
     347.515625
    ],
    "deepnote_to_be_reexecuted": false,
    "execution_millis": 233,
    "execution_start": 1650391032144,
    "id": "kSRA5aNtksCe",
    "outputId": "4851a812-cc63-4171-af3b-9e3e7f1ada8f",
    "source_hash": "d794f466"
   },
   "outputs": [
    {
     "data": {
      "text/plain": [
       "EthicaID                      0\n",
       "use_duration                  0\n",
       "duration_ongoing_session      0\n",
       "time_to_next_app              0\n",
       "time_to_next_app_t+1        186\n",
       "age_category                  0\n",
       "sex                           0\n",
       "notification                  0\n",
       "battery                       0\n",
       "category                      0\n",
       "t+1 category                186\n",
       "hours                         0\n",
       "weekday                       0\n",
       "geohash                       0\n",
       "location_cluster              0\n",
       "target                        0\n",
       "real_target                 186\n",
       "dtype: int64"
      ]
     },
     "execution_count": 7,
     "metadata": {},
     "output_type": "execute_result"
    }
   ],
   "source": [
    "df_full.isna().sum()"
   ]
  },
  {
   "cell_type": "code",
   "execution_count": 8,
   "id": "2cWHcND6ksCd",
   "metadata": {
    "cell_id": "00003-f12bbdeb-cf42-4a40-a4c5-1c5effe02320",
    "deepnote_cell_height": 81,
    "deepnote_cell_type": "code",
    "deepnote_to_be_reexecuted": false,
    "execution_millis": 769,
    "execution_start": 1650391025686,
    "id": "2cWHcND6ksCd",
    "source_hash": "4314666a"
   },
   "outputs": [],
   "source": [
    "df_full = df_full.dropna()"
   ]
  },
  {
   "cell_type": "code",
   "execution_count": 9,
   "id": "b2a9df31",
   "metadata": {},
   "outputs": [
    {
     "data": {
      "text/plain": [
       "Index(['EthicaID', 'use_duration', 'duration_ongoing_session',\n",
       "       'time_to_next_app', 'time_to_next_app_t+1', 'age_category', 'sex',\n",
       "       'notification', 'battery', 'category', 't+1 category', 'hours',\n",
       "       'weekday', 'geohash', 'location_cluster', 'target', 'real_target'],\n",
       "      dtype='object')"
      ]
     },
     "execution_count": 9,
     "metadata": {},
     "output_type": "execute_result"
    }
   ],
   "source": [
    "df_full.columns"
   ]
  },
  {
   "cell_type": "code",
   "execution_count": 11,
   "id": "Cuz5YJJKksCg",
   "metadata": {
    "cell_id": "00006-349ee1aa-061f-4070-87a9-24edce56af85",
    "deepnote_cell_height": 117,
    "deepnote_cell_type": "code",
    "deepnote_to_be_reexecuted": false,
    "execution_millis": 124,
    "execution_start": 1650391036805,
    "id": "Cuz5YJJKksCg",
    "source_hash": "5cbfe153"
   },
   "outputs": [],
   "source": [
    "#select feature subset\n",
    "df_model = df_full[['use_duration', 'duration_ongoing_session',\n",
    "       'time_to_next_app', 'age_category', 'sex',\n",
    "       'notification', 'battery', 'category', 'hours',\n",
    "       'weekday', 'geohash', 'location_cluster', 'target']]"
   ]
  },
  {
   "cell_type": "code",
   "execution_count": 12,
   "id": "-7w6N6_jksCi",
   "metadata": {
    "cell_id": "00007-9add3da7-6ee4-4417-9f96-3d0c3ffd8e16",
    "deepnote_cell_height": 135,
    "deepnote_cell_type": "code",
    "deepnote_to_be_reexecuted": false,
    "execution_millis": 21,
    "execution_start": 1650391040589,
    "id": "-7w6N6_jksCi",
    "source_hash": "4bdf04e"
   },
   "outputs": [],
   "source": [
    "cat_col = ['age_category', 'sex', 'notification', 'battery', 'category', 'hours',\n",
    "           'weekday', 'geohash', 'location_cluster', 'target']\n",
    "num_col_lst =  ['use_duration', 'duration_ongoing_session', 'time_to_next_app']\n",
    "target = 'real target'"
   ]
  },
  {
   "cell_type": "code",
   "execution_count": 13,
   "id": "CicDZ6B2ksCj",
   "metadata": {
    "cell_id": "00008-3255a31f-32ac-4060-b8c1-1f8f4b94635b",
    "colab": {
     "base_uri": "https://localhost:8080/"
    },
    "deepnote_cell_height": 920,
    "deepnote_cell_type": "code",
    "deepnote_to_be_reexecuted": false,
    "execution_millis": 5722,
    "execution_start": 1650391052789,
    "id": "CicDZ6B2ksCj",
    "outputId": "66ad3fb7-cbaa-4999-e6ce-db21587611d3",
    "source_hash": "1ba0d3c8"
   },
   "outputs": [
    {
     "name": "stderr",
     "output_type": "stream",
     "text": [
      "C:\\Users\\katha\\anaconda3\\lib\\site-packages\\pandas\\core\\indexing.py:966: SettingWithCopyWarning: \n",
      "A value is trying to be set on a copy of a slice from a DataFrame.\n",
      "Try using .loc[row_indexer,col_indexer] = value instead\n",
      "\n",
      "See the caveats in the documentation: https://pandas.pydata.org/pandas-docs/stable/user_guide/indexing.html#returning-a-view-versus-a-copy\n",
      "  self.obj[item] = s\n"
     ]
    },
    {
     "name": "stdout",
     "output_type": "stream",
     "text": [
      "age_category: ['17.749, 19.25' '19.25, 20.083' '20.083, 21.75' '21.75, 41.333']\n",
      "sex: [1 2]\n",
      "notification: [False  True]\n",
      "battery: [  0.   1.   2.   3.   4.   5.   6.   7.   8.   9.  10.  11.  12.  13.\n",
      "  14.  15.  16.  17.  18.  19.  20.  21.  22.  23.  24.  25.  26.  27.\n",
      "  28.  29.  30.  31.  32.  33.  34.  35.  36.  37.  38.  39.  40.  41.\n",
      "  42.  43.  44.  45.  46.  47.  48.  49.  50.  51.  52.  53.  54.  55.\n",
      "  56.  57.  58.  59.  60.  61.  62.  63.  64.  65.  66.  67.  68.  69.\n",
      "  70.  71.  72.  73.  74.  75.  76.  77.  78.  79.  80.  81.  82.  83.\n",
      "  84.  85.  86.  87.  88.  89.  90.  91.  92.  93.  94.  95.  96.  97.\n",
      "  98.  99. 100.]\n",
      "category: ['Art & Design' 'Auto & Vehicles' 'Beauty' 'Books & Reference' 'Business'\n",
      " 'Comics' 'Communication' 'Dating' 'Education' 'Entertainment' 'Events'\n",
      " 'Finance' 'Food & Drink' 'Games' 'Health & Fitness' 'House & Home'\n",
      " 'Lifestyle' 'Maps & Navigation' 'Medical' 'Music & Audio'\n",
      " 'News & Magazines' 'Parenting' 'Personalization' 'Photography'\n",
      " 'Productivity' 'Shopping' 'Social' 'Sports' 'Tools' 'Travel & Local'\n",
      " 'Video Players & Editors' 'Weather']\n",
      "hours: [ 0  1  2  3  4  5  6  7  8  9 10 11 12 13 14 15 16 17 18 19 20 21 22 23]\n",
      "weekday: [0 1 2 3 4 5 6]\n",
      "geohash: ['gc7x4' 'gc7xc' 'gce3y' ... 'udu7b' 'udu7t' 'udu7w']\n",
      "location_cluster: [0 1 2 3 4 5 6 7]\n",
      "target: ['long' 'medium' 'short']\n"
     ]
    }
   ],
   "source": [
    "#make encoders\n",
    "encoders = {}  \n",
    "for v in cat_col:  \n",
    "    le = LabelEncoder()\n",
    "    le.fit(df_model[v].values)\n",
    "    encoders[v] = le\n",
    "    df_model.loc[:, v] = le.transform(df_model[v].values)\n",
    "    print('{0}: {1}'.format(v, le.classes_))"
   ]
  },
  {
   "cell_type": "code",
   "execution_count": 14,
   "id": "70hzfuTlksCl",
   "metadata": {
    "cell_id": "00009-e7a838d0-66b1-4a41-b9e8-4c7b57ec79d9",
    "deepnote_cell_height": 81,
    "deepnote_cell_type": "code",
    "deepnote_to_be_reexecuted": false,
    "execution_millis": 1987,
    "execution_start": 1650391063250,
    "id": "70hzfuTlksCl",
    "source_hash": "330ee125"
   },
   "outputs": [],
   "source": [
    "#test train split\n",
    "X_train, X_test, y_train, y_test = train_test_split(df_model, df_full['real_target'], test_size=0.2, random_state=1)\n",
    "X_valid, X_test, y_valid, y_test = train_test_split(X_test, y_test, test_size=0.5, random_state=1)"
   ]
  },
  {
   "cell_type": "code",
   "execution_count": 17,
   "id": "IoTUVWdGksCn",
   "metadata": {
    "cell_id": "00011-8a0f7422-e10e-475a-be86-d506d0a9c5a4",
    "deepnote_cell_height": 117,
    "deepnote_cell_type": "code",
    "deepnote_to_be_reexecuted": false,
    "execution_millis": 327,
    "execution_start": 1650391067486,
    "id": "IoTUVWdGksCn",
    "source_hash": "3132555"
   },
   "outputs": [],
   "source": [
    "X_train = X_train[cat_col + num_col_lst].copy()  \n",
    "X_val = X_valid[cat_col + num_col_lst].copy()\n",
    "X_test = X_test[cat_col + num_col_lst].copy()"
   ]
  },
  {
   "cell_type": "code",
   "execution_count": 18,
   "id": "_lpbrdW5ksCn",
   "metadata": {
    "cell_id": "00012-e0366d82-f84a-4bd8-b312-b21f7ca5db8c",
    "deepnote_cell_height": 171,
    "deepnote_cell_type": "code",
    "deepnote_to_be_reexecuted": false,
    "execution_millis": 139,
    "execution_start": 1650391070733,
    "id": "_lpbrdW5ksCn",
    "source_hash": "3082d2d9"
   },
   "outputs": [],
   "source": [
    "y = y_train.astype(str).values\n",
    "y_val = y_valid.astype(str).values\n",
    "y_test = y_test.astype(str).values\n",
    "y = y.reshape(len(y), 1)\n",
    "y_val = y_val.reshape(len(y_val), 1)\n",
    "y_test = y_test.reshape(len(y_test), 1)"
   ]
  },
  {
   "cell_type": "code",
   "execution_count": 19,
   "id": "DviIgWcFksCo",
   "metadata": {
    "cell_id": "00013-314ff90f-e5b2-4703-b278-ebad8070937f",
    "deepnote_cell_height": 189,
    "deepnote_cell_type": "code",
    "deepnote_to_be_reexecuted": false,
    "execution_millis": 0,
    "execution_start": 1650391074032,
    "id": "DviIgWcFksCo",
    "source_hash": "5ad828f0"
   },
   "outputs": [],
   "source": [
    "def prepare_targets(y_train, y_valid, y_test):\n",
    "    le=MultiLabelBinarizer()\n",
    "    le.fit(y_train)\n",
    "    y_train_enc = le.transform(y_train)\n",
    "    y_valid_enc = le.transform(y_valid)\n",
    "    y_test_enc = le.transform(y_test)\n",
    "    return y_train_enc, y_valid_enc, y_test_enc"
   ]
  },
  {
   "cell_type": "code",
   "execution_count": 20,
   "id": "EkBEq3MfksCo",
   "metadata": {
    "cell_id": "00014-ddbb548e-8b9b-4216-92e0-1a0af9877d1b",
    "deepnote_cell_height": 81,
    "deepnote_cell_type": "code",
    "deepnote_to_be_reexecuted": false,
    "execution_millis": 13417,
    "execution_start": 1650391083643,
    "id": "EkBEq3MfksCo",
    "source_hash": "290718a6"
   },
   "outputs": [],
   "source": [
    "#encode targets\n",
    "y, y_val, y_test =  prepare_targets(y, y_val, y_test)"
   ]
  },
  {
   "cell_type": "code",
   "execution_count": 21,
   "id": "LIPgsjInksCo",
   "metadata": {
    "cell_id": "00015-b3b96dae-8c8f-496b-bb76-288faa9b9d78",
    "deepnote_cell_height": 207,
    "deepnote_cell_type": "code",
    "deepnote_to_be_reexecuted": false,
    "execution_millis": 923,
    "execution_start": 1650391097073,
    "id": "LIPgsjInksCo",
    "source_hash": "e523c294"
   },
   "outputs": [],
   "source": [
    "#prepare features for transformation\n",
    "for v in cat_col:  \n",
    "    X_train[v] = X_train[v].astype('int').astype('category').cat.as_ordered()\n",
    "    X_val[v] = X_val[v].astype('int').astype('category').cat.as_ordered()\n",
    "    X_test[v] = X_test[v].astype('int').astype('category').cat.as_ordered()\n",
    "for v in num_col_lst:  \n",
    "    X_train[v] = X_train[v].astype('float32')\n",
    "    X_val[v] = X_val[v].astype('float32')\n",
    "    X_test[v] = X_test[v].astype('float32')"
   ]
  },
  {
   "cell_type": "code",
   "execution_count": 22,
   "id": "EKNU4mnBksCp",
   "metadata": {
    "cell_id": "00016-1b450f36-e766-4eef-95d3-65d3d69c27a0",
    "deepnote_cell_height": 99,
    "deepnote_cell_type": "code",
    "deepnote_to_be_reexecuted": false,
    "execution_millis": 471,
    "execution_start": 1650391098081,
    "id": "EKNU4mnBksCp",
    "source_hash": "bcb8b34b"
   },
   "outputs": [],
   "source": [
    "df_cat = df_model[['age_category', 'sex', 'notification', 'battery', 'category', 'hours',\n",
    "           'weekday', 'geohash', 'location_cluster', 'target']].astype(('category'))"
   ]
  },
  {
   "cell_type": "code",
   "execution_count": 23,
   "id": "JFvvNWZ1ksCp",
   "metadata": {
    "cell_id": "00017-24da7724-6a09-4c25-a1f7-a990f17542e4",
    "colab": {
     "base_uri": "https://localhost:8080/"
    },
    "deepnote_cell_height": 289.75,
    "deepnote_cell_type": "code",
    "deepnote_output_heights": [
     174.75
    ],
    "deepnote_to_be_reexecuted": false,
    "execution_millis": 309,
    "execution_start": 1650391098557,
    "id": "JFvvNWZ1ksCp",
    "outputId": "803ba53a-88dc-4d27-df89-5ed0adfa0c4c",
    "source_hash": "4ba0a424"
   },
   "outputs": [
    {
     "data": {
      "text/plain": [
       "[('age_category', 4),\n",
       " ('sex', 2),\n",
       " ('notification', 2),\n",
       " ('battery', 101),\n",
       " ('category', 32),\n",
       " ('hours', 24),\n",
       " ('weekday', 7),\n",
       " ('geohash', 1969),\n",
       " ('location_cluster', 8),\n",
       " ('target', 3)]"
      ]
     },
     "execution_count": 23,
     "metadata": {},
     "output_type": "execute_result"
    }
   ],
   "source": [
    "#define embeddings size\n",
    "cat_sizes = [(c, len(df_cat[c].cat.categories)) for c in cat_col]  \n",
    "cat_sizes\n",
    "embedding_sizes = [(c, min(50, (c + 1) // 2)) for _, c in cat_sizes]  \n",
    "embedding_sizes"
   ]
  },
  {
   "cell_type": "code",
   "execution_count": 25,
   "id": "LIfzleHOksCq",
   "metadata": {
    "cell_id": "00019-40370035-5217-4312-97f2-4515ee9248a1",
    "colab": {
     "base_uri": "https://localhost:8080/"
    },
    "deepnote_cell_height": 370.1875,
    "deepnote_cell_type": "code",
    "deepnote_output_heights": [
     21.1875
    ],
    "deepnote_to_be_reexecuted": false,
    "execution_millis": 22,
    "execution_start": 1650391102408,
    "id": "LIfzleHOksCq",
    "outputId": "ca217771-8270-489b-9cec-37dad05a07db",
    "source_hash": "8dd7decc"
   },
   "outputs": [
    {
     "data": {
      "text/plain": [
       "(11, 11, 11)"
      ]
     },
     "execution_count": 25,
     "metadata": {},
     "output_type": "execute_result"
    }
   ],
   "source": [
    "X_array = []  \n",
    "X_val_array = []\n",
    "X_test_array = []\n",
    "\n",
    "for i, v in enumerate(cat_col):  \n",
    "    X_array.append(X_train.iloc[:, i])\n",
    "    X_val_array.append(X_val.iloc[:, i])\n",
    "    X_test_array.append(X_test.iloc[:, i])\n",
    "\n",
    "X_array.append(X_train.iloc[:, len(cat_col):])  \n",
    "X_val_array.append(X_val.iloc[:, len(cat_col):])\n",
    "X_test_array.append(X_test.iloc[:, len(cat_col):])\n",
    "\n",
    "\n",
    "len(X_array), len(X_val_array), len(X_test_array)"
   ]
  },
  {
   "cell_type": "code",
   "execution_count": 26,
   "id": "Vh_bFHoEksCr",
   "metadata": {
    "cell_id": "00020-cdf80126-e449-4572-bbb3-277f24692ccf",
    "deepnote_cell_height": 459,
    "deepnote_cell_type": "code",
    "deepnote_to_be_reexecuted": false,
    "execution_millis": 0,
    "execution_start": 1650391105540,
    "id": "Vh_bFHoEksCr",
    "source_hash": "f5fbb4c8"
   },
   "outputs": [],
   "source": [
    "#define model structure\n",
    "def fit_model(neurons):\n",
    "    inputs = []\n",
    "    embed_layers = []\n",
    "    for (c, (in_size, out_size)) in zip(cat_col, embedding_sizes):\n",
    "        i = Input(shape=(1, )) # dim hinzufügen\n",
    "        o = Embedding(in_size, out_size, name=c)(i)\n",
    "        o = Reshape(target_shape=(out_size,))(o)\n",
    "        inputs.append(i)\n",
    "        embed_layers.append(o)\n",
    "    embed = Concatenate()(embed_layers)\n",
    "    cont_input = Input(shape=(len(num_col_lst),))\n",
    "    inputs.append(cont_input)\n",
    "    x = Concatenate()([embed, cont_input])\n",
    "    dense = Dense(neurons, activation= 'sigmoid', kernel_initializer= 'he_normal')(x)\n",
    "    d = Dropout(0.2)(dense)\n",
    "\n",
    "    output = Dense(3, activation= 'softmax')(d)\n",
    "    model = Model(inputs=inputs, outputs=output)\n",
    "    model.compile(loss='categorical_crossentropy', optimizer='adam', metrics=['accuracy'])\n",
    "    return model"
   ]
  },
  {
   "cell_type": "code",
   "execution_count": 27,
   "id": "p8o-wMGxksCs",
   "metadata": {
    "cell_id": "00021-e04b90c6-5c25-4f73-8f52-0d928aaea014",
    "deepnote_cell_height": 81,
    "deepnote_cell_type": "code",
    "deepnote_to_be_reexecuted": false,
    "execution_millis": 1,
    "execution_start": 1650391113460,
    "id": "p8o-wMGxksCs",
    "source_hash": "40d01e2c"
   },
   "outputs": [],
   "source": [
    "es = EarlyStopping(monitor='val_accuracy', mode='max', verbose=1, patience = 5, restore_best_weights=True)"
   ]
  },
  {
   "cell_type": "code",
   "execution_count": 28,
   "id": "dN2lYe4eksCs",
   "metadata": {
    "cell_id": "00022-b1d26f72-e256-4b80-a5b0-02ec9655b4ee",
    "deepnote_cell_height": 81,
    "deepnote_cell_type": "code",
    "deepnote_to_be_reexecuted": false,
    "execution_millis": 2193,
    "execution_start": 1650391115395,
    "id": "dN2lYe4eksCs",
    "source_hash": "6a77453d"
   },
   "outputs": [],
   "source": [
    "import matplotlib.pyplot as plt"
   ]
  },
  {
   "cell_type": "code",
   "execution_count": 29,
   "id": "0amSJjSdksCt",
   "metadata": {
    "cell_id": "00023-b0337b86-c43f-4c86-bd9c-08311be42059",
    "colab": {
     "base_uri": "https://localhost:8080/",
     "height": 1000
    },
    "deepnote_cell_height": 557,
    "deepnote_cell_type": "code",
    "deepnote_to_be_reexecuted": false,
    "execution_millis": 44734,
    "execution_start": 1650391194450,
    "id": "0amSJjSdksCt",
    "outputId": "d354dd78-3d44-4525-ee14-4b04353ee4cb",
    "owner_user_id": "e4d06d89-5df2-44b5-8e40-45e8c9ca50f5",
    "source_hash": "b876cfef"
   },
   "outputs": [
    {
     "name": "stdout",
     "output_type": "stream",
     "text": [
      "Epoch 1/50\n",
      "13812/13812 [==============================] - 117s 8ms/step - loss: 1.0823 - accuracy: 0.3911 - val_loss: 1.0782 - val_accuracy: 0.3968\n",
      "Epoch 2/50\n",
      "13812/13812 [==============================] - 95s 7ms/step - loss: 1.0770 - accuracy: 0.3988 - val_loss: 1.0747 - val_accuracy: 0.4021\n",
      "Epoch 3/50\n",
      "13812/13812 [==============================] - 99s 7ms/step - loss: 1.0741 - accuracy: 0.4033 - val_loss: 1.0721 - val_accuracy: 0.4062\n",
      "Epoch 4/50\n",
      "13812/13812 [==============================] - 102s 7ms/step - loss: 1.0723 - accuracy: 0.4060 - val_loss: 1.0712 - val_accuracy: 0.4076\n",
      "Epoch 5/50\n",
      "13812/13812 [==============================] - 104s 8ms/step - loss: 1.0711 - accuracy: 0.4078 - val_loss: 1.0708 - val_accuracy: 0.4090\n",
      "Epoch 6/50\n",
      "13812/13812 [==============================] - 102s 7ms/step - loss: 1.0701 - accuracy: 0.4094 - val_loss: 1.0701 - val_accuracy: 0.4108\n",
      "Epoch 7/50\n",
      "13812/13812 [==============================] - 118s 9ms/step - loss: 1.0693 - accuracy: 0.4108 - val_loss: 1.0698 - val_accuracy: 0.4108\n",
      "Epoch 8/50\n",
      "13812/13812 [==============================] - 134s 10ms/step - loss: 1.0686 - accuracy: 0.4117 - val_loss: 1.0697 - val_accuracy: 0.4112\n",
      "Epoch 9/50\n",
      "13812/13812 [==============================] - 138s 10ms/step - loss: 1.0680 - accuracy: 0.4126 - val_loss: 1.0696 - val_accuracy: 0.4112\n",
      "Epoch 10/50\n",
      "13812/13812 [==============================] - 89s 6ms/step - loss: 1.0674 - accuracy: 0.4133 - val_loss: 1.0692 - val_accuracy: 0.4118\n",
      "Epoch 11/50\n",
      "13812/13812 [==============================] - 80s 6ms/step - loss: 1.0669 - accuracy: 0.4140 - val_loss: 1.0692 - val_accuracy: 0.4122\n",
      "Epoch 12/50\n",
      "13812/13812 [==============================] - 79s 6ms/step - loss: 1.0664 - accuracy: 0.4147 - val_loss: 1.0693 - val_accuracy: 0.4121\n",
      "Epoch 13/50\n",
      "13812/13812 [==============================] - 86s 6ms/step - loss: 1.0661 - accuracy: 0.4152 - val_loss: 1.0693 - val_accuracy: 0.4118\n",
      "Epoch 14/50\n",
      "13812/13812 [==============================] - 84s 6ms/step - loss: 1.0655 - accuracy: 0.4158 - val_loss: 1.0691 - val_accuracy: 0.4120\n",
      "Epoch 15/50\n",
      "13812/13812 [==============================] - 98s 7ms/step - loss: 1.0652 - accuracy: 0.4160 - val_loss: 1.0695 - val_accuracy: 0.4122\n",
      "Epoch 16/50\n",
      "13812/13812 [==============================] - 92s 7ms/step - loss: 1.0648 - accuracy: 0.4167 - val_loss: 1.0693 - val_accuracy: 0.4123\n",
      "Epoch 17/50\n",
      "13812/13812 [==============================] - 96s 7ms/step - loss: 1.0645 - accuracy: 0.4168 - val_loss: 1.0692 - val_accuracy: 0.4124\n",
      "Epoch 18/50\n",
      "13812/13812 [==============================] - 95s 7ms/step - loss: 1.0643 - accuracy: 0.4172 - val_loss: 1.0695 - val_accuracy: 0.4120\n",
      "Epoch 19/50\n",
      "13812/13812 [==============================] - 105s 8ms/step - loss: 1.0639 - accuracy: 0.4174 - val_loss: 1.0694 - val_accuracy: 0.4121\n",
      "Epoch 20/50\n",
      "13812/13812 [==============================] - 100s 7ms/step - loss: 1.0637 - accuracy: 0.4178 - val_loss: 1.0697 - val_accuracy: 0.4124\n",
      "Epoch 21/50\n",
      "13812/13812 [==============================] - 99s 7ms/step - loss: 1.0633 - accuracy: 0.4182 - val_loss: 1.0700 - val_accuracy: 0.4125\n",
      "Epoch 22/50\n",
      "13812/13812 [==============================] - 103s 7ms/step - loss: 1.0630 - accuracy: 0.4185 - val_loss: 1.0698 - val_accuracy: 0.4121\n",
      "Epoch 23/50\n",
      "13812/13812 [==============================] - 105s 8ms/step - loss: 1.0628 - accuracy: 0.4187 - val_loss: 1.0701 - val_accuracy: 0.4122\n",
      "Epoch 24/50\n",
      "13812/13812 [==============================] - 106s 8ms/step - loss: 1.0626 - accuracy: 0.4190 - val_loss: 1.0699 - val_accuracy: 0.4121\n",
      "Epoch 25/50\n",
      "13812/13812 [==============================] - 107s 8ms/step - loss: 1.0623 - accuracy: 0.4192 - val_loss: 1.0704 - val_accuracy: 0.4111\n",
      "Epoch 26/50\n",
      "13812/13812 [==============================] - ETA: 0s - loss: 1.0621 - accuracy: 0.4192Restoring model weights from the end of the best epoch: 21.\n",
      "13812/13812 [==============================] - 102s 7ms/step - loss: 1.0621 - accuracy: 0.4192 - val_loss: 1.0702 - val_accuracy: 0.4112\n",
      "Epoch 00026: early stopping\n",
      "13812/13812 [==============================] - 25s 2ms/step - loss: 1.0700 - accuracy: 0.4125\n",
      "Duration: 0:44:23.888832\n"
     ]
    }
   ],
   "source": [
    "#hyperparameter optimization loop\n",
    "from datetime import datetime\n",
    "start_time = datetime.now()\n",
    "for num_neurons in [256]: \n",
    "    for batch_size in [256]:\n",
    "        model = fit_model(num_neurons)\n",
    "        history = model.fit(X_array, y, epochs=50, validation_data = (X_val_array, y_val), callbacks  = [es], verbose = 1, \n",
    "                           batch_size = batch_size)\n",
    "        _, accuracy = model.evaluate(X_val_array, y_val, verbose=1)\n",
    "        with open('model/Baseline/Baseline_all_features_excl_special+Dropout/Baseline_all_features_excl_special+Dropout.txt', 'a') as fp:\n",
    "            fp.writelines(['Number of Neurons: ' + str(num_neurons) +\n",
    "                           '\\n', 'Batch Size: ' + str(batch_size) + '\\n', 'seed1\\n',\n",
    "                           'Accuracy: ' + str(accuracy) + '\\n\\n'])\n",
    "        model.save('model/Baseline/Baseline_all_features_excl_special+Dropout/model_neurons_'+ str(num_neurons) + 'batch_size' +\n",
    "                   str(batch_size)+ '_seed1.h5')\n",
    "        plt.figure(figsize=(10, 6))\n",
    "        plt.plot(history.history['accuracy'], color = 'dodgerblue')\n",
    "        plt.plot(history.history['val_accuracy'], color = 'rebeccapurple')\n",
    "        plt.title('model accuracy')\n",
    "        plt.ylabel('accuracy')\n",
    "        plt.xlabel('epoch')\n",
    "        plt.xticks(range(0, len(history.history['accuracy'])+1, 2))\n",
    "        plt.legend(['train', 'valid'], loc='upper left')\n",
    "        plt.savefig('model/Baseline/Baseline_all_features_excl_special+Dropout/model_neurons_'+ str(num_neurons) + #\n",
    "                    'batch_size' + str(batch_size)+ '_seed1.png')\n",
    "end_time = datetime.now()\n",
    "print('Duration: {}'.format(end_time - start_time))"
   ]
  },
  {
   "cell_type": "code",
   "execution_count": 30,
   "id": "UpUpUqUtrXEi",
   "metadata": {
    "id": "UpUpUqUtrXEi"
   },
   "outputs": [],
   "source": [
    "import keras"
   ]
  },
  {
   "cell_type": "code",
   "execution_count": 31,
   "id": "u-8v0aTAfjaT",
   "metadata": {
    "colab": {
     "base_uri": "https://localhost:8080/"
    },
    "id": "u-8v0aTAfjaT",
    "outputId": "7612ee6c-4468-477f-8318-fcf64c2884d3",
    "scrolled": true
   },
   "outputs": [
    {
     "name": "stdout",
     "output_type": "stream",
     "text": [
      "13812/13812 [==============================] - 24s 2ms/step - loss: 1.0703 - accuracy: 0.4105\n",
      "0.41053998470306396\n",
      "13812/13812 [==============================] - 24s 2ms/step - loss: 1.0700 - accuracy: 0.4125\n",
      "0.41252294182777405\n",
      "110494/110494 [==============================] - 202s 2ms/step - loss: 1.0588 - accuracy: 0.4238\n",
      "0.42378199100494385\n"
     ]
    }
   ],
   "source": [
    "#insert best hyperparameters to optain predictive accuracy\n",
    "model = keras.models.load_model('model/Baseline/Baseline_all_features_excl_special+Dropout/model_neurons_256batch_size256_seed1.h5')\n",
    "_, accuracy_test = model.evaluate(X_test_array, y_test, verbose=1)\n",
    "print(accuracy_test)\n",
    "\n",
    "_, accuracy_valid = model.evaluate(X_val_array, y_val, verbose=1)\n",
    "print(accuracy_valid)\n",
    "\n",
    "_, accuracy_train = model.evaluate(X_array, y, verbose=1)\n",
    "print(accuracy_train)\n",
    "\n",
    "with open('model/Baseline/Baseline_all_features_excl_special+Dropout/Baseline_all_features_excl_special+Dropout.txt', 'a') as fp:\n",
    "    fp.writelines(['Best model accuracy on test set: ' + str(accuracy_test) + '\\n\\n', \n",
    "                   'Best model accuracy on valid set: ' + str(accuracy_valid) + '\\n\\n', \n",
    "                   'Best model accuracy on train set: ' + str(accuracy_train) + '\\n\\n'])"
   ]
  },
  {
   "cell_type": "code",
   "execution_count": 32,
   "id": "5b737fe4",
   "metadata": {},
   "outputs": [],
   "source": [
    "#wirte training time to file\n",
    "with open('model/Baseline/Baseline_all_features_excl_special+Dropout/Baseline_all_features_excl_special+Dropout.txt', 'a') as fp:\n",
    "    fp.writelines(['Time needed for training:', str(end_time - start_time)])"
   ]
  }
 ],
 "metadata": {
  "colab": {
   "collapsed_sections": [],
   "name": "MLP_all_features_excl_special_features.ipynb",
   "provenance": []
  },
  "deepnote": {},
  "deepnote_execution_queue": [
   {
    "cellId": "00023-b0337b86-c43f-4c86-bd9c-08311be42059",
    "msgId": "be88a8b1-313c-42c3-95e7-202f6e832581",
    "sessionId": "38ca9101-5625-46af-b241-1dd35501300e"
   }
  ],
  "deepnote_notebook_id": "6d052db9-766a-4b87-ad5f-51f2a0948769",
  "kernelspec": {
   "display_name": "Python 3",
   "language": "python",
   "name": "python3"
  },
  "language_info": {
   "codemirror_mode": {
    "name": "ipython",
    "version": 3
   },
   "file_extension": ".py",
   "mimetype": "text/x-python",
   "name": "python",
   "nbconvert_exporter": "python",
   "pygments_lexer": "ipython3",
   "version": "3.8.8"
  }
 },
 "nbformat": 4,
 "nbformat_minor": 5
}
