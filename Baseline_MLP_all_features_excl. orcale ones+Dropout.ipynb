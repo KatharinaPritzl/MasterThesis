{
 "cells": [
  {
   "cell_type": "code",
   "execution_count": null,
   "id": "HSFPYD6eksCW",
   "metadata": {
    "cell_id": "02e612d7-3826-4b74-b71d-09c947f0202d",
    "deepnote_cell_height": 405,
    "deepnote_cell_type": "code",
    "deepnote_to_be_reexecuted": false,
    "execution_millis": 0,
    "execution_start": 1650390990776,
    "id": "HSFPYD6eksCW",
    "source_hash": "7c47dc9e"
   },
   "outputs": [],
   "source": [
    "seed_value= 1\n",
    "\n",
    "import os\n",
    "os.environ['PYTHONHASHSEED']=str(seed_value)\n",
    "\n",
    "import random\n",
    "random.seed(seed_value)\n",
    "\n",
    "import numpy as np\n",
    "np.random.seed(seed_value)\n",
    "\n",
    "import tensorflow as tf\n",
    "tf.random.set_seed(seed_value)# for later versions: \n",
    "# tf.compat.v1.set_random_seed(seed_value)\n",
    "\n",
    "from keras import backend as K\n",
    "session_conf = tf.compat.v1.ConfigProto(intra_op_parallelism_threads=1, inter_op_parallelism_threads=1)\n",
    "sess = tf.compat.v1.Session(graph=tf.compat.v1.get_default_graph(), config=session_conf)\n",
    "tf.compat.v1.keras.backend.set_session(sess)"
   ]
  },
  {
   "cell_type": "code",
   "execution_count": null,
   "id": "1IzZFAL2ksCb",
   "metadata": {
    "cell_id": "00001-c0c5d9b3-d642-4bee-abfb-cf0605cafaed",
    "deepnote_cell_height": 171,
    "deepnote_cell_type": "code",
    "deepnote_to_be_reexecuted": false,
    "execution_millis": 784,
    "execution_start": 1650390994496,
    "id": "1IzZFAL2ksCb",
    "source_hash": "b6a57486"
   },
   "outputs": [],
   "source": [
    "import pandas as pd\n",
    "from sklearn.preprocessing import LabelEncoder,MultiLabelBinarizer\n",
    "from sklearn.model_selection import train_test_split\n",
    "from keras.layers import Input, Reshape, Embedding, Concatenate, Dropout, Dense\n",
    "from keras.models import Model\n",
    "from keras.callbacks import EarlyStopping"
   ]
  },
  {
   "cell_type": "code",
   "execution_count": null,
   "id": "zB_eOaVkksCc",
   "metadata": {
    "cell_id": "00002-cf0f08ec-d60b-46ba-914d-42b8942383cc",
    "deepnote_cell_height": 99,
    "deepnote_cell_type": "code",
    "deepnote_to_be_reexecuted": false,
    "execution_millis": 15976,
    "execution_start": 1650391008567,
    "id": "zB_eOaVkksCc",
    "source_hash": "63ca8ad8"
   },
   "outputs": [],
   "source": [
    "df = pd.read_csv('cleaned_data/data_with_features.csv')\n",
    "df = df.drop(df.columns[0], axis = 1)"
   ]
  },
  {
   "cell_type": "code",
   "execution_count": null,
   "id": "d5e52c76",
   "metadata": {},
   "outputs": [],
   "source": [
    "#add right target\n",
    "df_lst = []\n",
    "\n",
    "for user in np.unique(df['EthicaID']): \n",
    "    df_single_user = df.loc[df['EthicaID'] == user]     \n",
    "    real_target = df_single_user[['target']][1:len(df_single_user)].rename({'target': 'real_target'}, axis = 1)\n",
    "    df_single_user = pd.concat([df_single_user.reset_index(drop = True), real_target.reset_index(drop = True)], axis =1)    \n",
    "    df_lst.append(df_single_user)"
   ]
  },
  {
   "cell_type": "code",
   "execution_count": null,
   "id": "0e0f4877",
   "metadata": {},
   "outputs": [],
   "source": [
    "df_full = pd.concat(df_lst, axis = 0)"
   ]
  },
  {
   "cell_type": "code",
   "execution_count": null,
   "id": "9f9786cd",
   "metadata": {},
   "outputs": [],
   "source": [
    "df_full.tail()"
   ]
  },
  {
   "cell_type": "code",
   "execution_count": null,
   "id": "kSRA5aNtksCe",
   "metadata": {
    "cell_id": "00005-a32e43f9-d096-4181-8b68-460d18f965a8",
    "colab": {
     "base_uri": "https://localhost:8080/"
    },
    "deepnote_cell_height": 444.515625,
    "deepnote_cell_type": "code",
    "deepnote_output_heights": [
     347.515625
    ],
    "deepnote_to_be_reexecuted": false,
    "execution_millis": 233,
    "execution_start": 1650391032144,
    "id": "kSRA5aNtksCe",
    "outputId": "4851a812-cc63-4171-af3b-9e3e7f1ada8f",
    "source_hash": "d794f466"
   },
   "outputs": [],
   "source": [
    "df_full.isna().sum()"
   ]
  },
  {
   "cell_type": "code",
   "execution_count": null,
   "id": "2cWHcND6ksCd",
   "metadata": {
    "cell_id": "00003-f12bbdeb-cf42-4a40-a4c5-1c5effe02320",
    "deepnote_cell_height": 81,
    "deepnote_cell_type": "code",
    "deepnote_to_be_reexecuted": false,
    "execution_millis": 769,
    "execution_start": 1650391025686,
    "id": "2cWHcND6ksCd",
    "source_hash": "4314666a"
   },
   "outputs": [],
   "source": [
    "df_full = df_full.dropna()"
   ]
  },
  {
   "cell_type": "code",
   "execution_count": null,
   "id": "b2a9df31",
   "metadata": {},
   "outputs": [],
   "source": [
    "df_full.columns"
   ]
  },
  {
   "cell_type": "code",
   "execution_count": null,
   "id": "Cuz5YJJKksCg",
   "metadata": {
    "cell_id": "00006-349ee1aa-061f-4070-87a9-24edce56af85",
    "deepnote_cell_height": 117,
    "deepnote_cell_type": "code",
    "deepnote_to_be_reexecuted": false,
    "execution_millis": 124,
    "execution_start": 1650391036805,
    "id": "Cuz5YJJKksCg",
    "source_hash": "5cbfe153"
   },
   "outputs": [],
   "source": [
    "#select feature subset\n",
    "df_model = df_full[['use_duration', 'duration_ongoing_session',\n",
    "       'time_to_next_app', 'age_category', 'sex',\n",
    "       'notification', 'battery', 'category', 'hours',\n",
    "       'weekday', 'geohash', 'location_cluster', 'target']]"
   ]
  },
  {
   "cell_type": "code",
   "execution_count": null,
   "id": "-7w6N6_jksCi",
   "metadata": {
    "cell_id": "00007-9add3da7-6ee4-4417-9f96-3d0c3ffd8e16",
    "deepnote_cell_height": 135,
    "deepnote_cell_type": "code",
    "deepnote_to_be_reexecuted": false,
    "execution_millis": 21,
    "execution_start": 1650391040589,
    "id": "-7w6N6_jksCi",
    "source_hash": "4bdf04e"
   },
   "outputs": [],
   "source": [
    "cat_col = ['age_category', 'sex', 'notification', 'battery', 'category', 'hours',\n",
    "           'weekday', 'geohash', 'location_cluster', 'target']\n",
    "num_col_lst =  ['use_duration', 'duration_ongoing_session', 'time_to_next_app']\n",
    "target = 'real target'"
   ]
  },
  {
   "cell_type": "code",
   "execution_count": null,
   "id": "CicDZ6B2ksCj",
   "metadata": {
    "cell_id": "00008-3255a31f-32ac-4060-b8c1-1f8f4b94635b",
    "colab": {
     "base_uri": "https://localhost:8080/"
    },
    "deepnote_cell_height": 920,
    "deepnote_cell_type": "code",
    "deepnote_to_be_reexecuted": false,
    "execution_millis": 5722,
    "execution_start": 1650391052789,
    "id": "CicDZ6B2ksCj",
    "outputId": "66ad3fb7-cbaa-4999-e6ce-db21587611d3",
    "source_hash": "1ba0d3c8"
   },
   "outputs": [],
   "source": [
    "#make encoders\n",
    "encoders = {}  \n",
    "for v in cat_col:  \n",
    "    le = LabelEncoder()\n",
    "    le.fit(df_model[v].values)\n",
    "    encoders[v] = le\n",
    "    df_model.loc[:, v] = le.transform(df_model[v].values)\n",
    "    print('{0}: {1}'.format(v, le.classes_))"
   ]
  },
  {
   "cell_type": "code",
   "execution_count": null,
   "id": "70hzfuTlksCl",
   "metadata": {
    "cell_id": "00009-e7a838d0-66b1-4a41-b9e8-4c7b57ec79d9",
    "deepnote_cell_height": 81,
    "deepnote_cell_type": "code",
    "deepnote_to_be_reexecuted": false,
    "execution_millis": 1987,
    "execution_start": 1650391063250,
    "id": "70hzfuTlksCl",
    "source_hash": "330ee125"
   },
   "outputs": [],
   "source": [
    "#test train split\n",
    "X_train, X_test, y_train, y_test = train_test_split(df_model, df_full['real_target'], test_size=0.2, random_state=1)\n",
    "X_valid, X_test, y_valid, y_test = train_test_split(X_test, y_test, test_size=0.5, random_state=1)"
   ]
  },
  {
   "cell_type": "code",
   "execution_count": null,
   "id": "IoTUVWdGksCn",
   "metadata": {
    "cell_id": "00011-8a0f7422-e10e-475a-be86-d506d0a9c5a4",
    "deepnote_cell_height": 117,
    "deepnote_cell_type": "code",
    "deepnote_to_be_reexecuted": false,
    "execution_millis": 327,
    "execution_start": 1650391067486,
    "id": "IoTUVWdGksCn",
    "source_hash": "3132555"
   },
   "outputs": [],
   "source": [
    "X_train = X_train[cat_col + num_col_lst].copy()  \n",
    "X_val = X_valid[cat_col + num_col_lst].copy()\n",
    "X_test = X_test[cat_col + num_col_lst].copy()"
   ]
  },
  {
   "cell_type": "code",
   "execution_count": null,
   "id": "_lpbrdW5ksCn",
   "metadata": {
    "cell_id": "00012-e0366d82-f84a-4bd8-b312-b21f7ca5db8c",
    "deepnote_cell_height": 171,
    "deepnote_cell_type": "code",
    "deepnote_to_be_reexecuted": false,
    "execution_millis": 139,
    "execution_start": 1650391070733,
    "id": "_lpbrdW5ksCn",
    "source_hash": "3082d2d9"
   },
   "outputs": [],
   "source": [
    "y = y_train.astype(str).values\n",
    "y_val = y_valid.astype(str).values\n",
    "y_test = y_test.astype(str).values\n",
    "y = y.reshape(len(y), 1)\n",
    "y_val = y_val.reshape(len(y_val), 1)\n",
    "y_test = y_test.reshape(len(y_test), 1)"
   ]
  },
  {
   "cell_type": "code",
   "execution_count": null,
   "id": "DviIgWcFksCo",
   "metadata": {
    "cell_id": "00013-314ff90f-e5b2-4703-b278-ebad8070937f",
    "deepnote_cell_height": 189,
    "deepnote_cell_type": "code",
    "deepnote_to_be_reexecuted": false,
    "execution_millis": 0,
    "execution_start": 1650391074032,
    "id": "DviIgWcFksCo",
    "source_hash": "5ad828f0"
   },
   "outputs": [],
   "source": [
    "def prepare_targets(y_train, y_valid, y_test):\n",
    "    le=MultiLabelBinarizer()\n",
    "    le.fit(y_train)\n",
    "    y_train_enc = le.transform(y_train)\n",
    "    y_valid_enc = le.transform(y_valid)\n",
    "    y_test_enc = le.transform(y_test)\n",
    "    return y_train_enc, y_valid_enc, y_test_enc"
   ]
  },
  {
   "cell_type": "code",
   "execution_count": null,
   "id": "EkBEq3MfksCo",
   "metadata": {
    "cell_id": "00014-ddbb548e-8b9b-4216-92e0-1a0af9877d1b",
    "deepnote_cell_height": 81,
    "deepnote_cell_type": "code",
    "deepnote_to_be_reexecuted": false,
    "execution_millis": 13417,
    "execution_start": 1650391083643,
    "id": "EkBEq3MfksCo",
    "source_hash": "290718a6"
   },
   "outputs": [],
   "source": [
    "#encode targets\n",
    "y, y_val, y_test =  prepare_targets(y, y_val, y_test)"
   ]
  },
  {
   "cell_type": "code",
   "execution_count": null,
   "id": "LIPgsjInksCo",
   "metadata": {
    "cell_id": "00015-b3b96dae-8c8f-496b-bb76-288faa9b9d78",
    "deepnote_cell_height": 207,
    "deepnote_cell_type": "code",
    "deepnote_to_be_reexecuted": false,
    "execution_millis": 923,
    "execution_start": 1650391097073,
    "id": "LIPgsjInksCo",
    "source_hash": "e523c294"
   },
   "outputs": [],
   "source": [
    "#prepare features for transformation\n",
    "for v in cat_col:  \n",
    "    X_train[v] = X_train[v].astype('int').astype('category').cat.as_ordered()\n",
    "    X_val[v] = X_val[v].astype('int').astype('category').cat.as_ordered()\n",
    "    X_test[v] = X_test[v].astype('int').astype('category').cat.as_ordered()\n",
    "for v in num_col_lst:  \n",
    "    X_train[v] = X_train[v].astype('float32')\n",
    "    X_val[v] = X_val[v].astype('float32')\n",
    "    X_test[v] = X_test[v].astype('float32')"
   ]
  },
  {
   "cell_type": "code",
   "execution_count": null,
   "id": "EKNU4mnBksCp",
   "metadata": {
    "cell_id": "00016-1b450f36-e766-4eef-95d3-65d3d69c27a0",
    "deepnote_cell_height": 99,
    "deepnote_cell_type": "code",
    "deepnote_to_be_reexecuted": false,
    "execution_millis": 471,
    "execution_start": 1650391098081,
    "id": "EKNU4mnBksCp",
    "source_hash": "bcb8b34b"
   },
   "outputs": [],
   "source": [
    "df_cat = df_model[['age_category', 'sex', 'notification', 'battery', 'category', 'hours',\n",
    "           'weekday', 'geohash', 'location_cluster', 'target']].astype(('category'))"
   ]
  },
  {
   "cell_type": "code",
   "execution_count": null,
   "id": "JFvvNWZ1ksCp",
   "metadata": {
    "cell_id": "00017-24da7724-6a09-4c25-a1f7-a990f17542e4",
    "colab": {
     "base_uri": "https://localhost:8080/"
    },
    "deepnote_cell_height": 289.75,
    "deepnote_cell_type": "code",
    "deepnote_output_heights": [
     174.75
    ],
    "deepnote_to_be_reexecuted": false,
    "execution_millis": 309,
    "execution_start": 1650391098557,
    "id": "JFvvNWZ1ksCp",
    "outputId": "803ba53a-88dc-4d27-df89-5ed0adfa0c4c",
    "source_hash": "4ba0a424"
   },
   "outputs": [],
   "source": [
    "#define embeddings size\n",
    "cat_sizes = [(c, len(df_cat[c].cat.categories)) for c in cat_col]  \n",
    "cat_sizes\n",
    "embedding_sizes = [(c, min(50, (c + 1) // 2)) for _, c in cat_sizes]  \n",
    "embedding_sizes"
   ]
  },
  {
   "cell_type": "code",
   "execution_count": null,
   "id": "LIfzleHOksCq",
   "metadata": {
    "cell_id": "00019-40370035-5217-4312-97f2-4515ee9248a1",
    "colab": {
     "base_uri": "https://localhost:8080/"
    },
    "deepnote_cell_height": 370.1875,
    "deepnote_cell_type": "code",
    "deepnote_output_heights": [
     21.1875
    ],
    "deepnote_to_be_reexecuted": false,
    "execution_millis": 22,
    "execution_start": 1650391102408,
    "id": "LIfzleHOksCq",
    "outputId": "ca217771-8270-489b-9cec-37dad05a07db",
    "source_hash": "8dd7decc"
   },
   "outputs": [],
   "source": [
    "X_array = []  \n",
    "X_val_array = []\n",
    "X_test_array = []\n",
    "\n",
    "for i, v in enumerate(cat_col):  \n",
    "    X_array.append(X_train.iloc[:, i])\n",
    "    X_val_array.append(X_val.iloc[:, i])\n",
    "    X_test_array.append(X_test.iloc[:, i])\n",
    "\n",
    "X_array.append(X_train.iloc[:, len(cat_col):])  \n",
    "X_val_array.append(X_val.iloc[:, len(cat_col):])\n",
    "X_test_array.append(X_test.iloc[:, len(cat_col):])\n",
    "\n",
    "\n",
    "len(X_array), len(X_val_array), len(X_test_array)"
   ]
  },
  {
   "cell_type": "code",
   "execution_count": null,
   "id": "Vh_bFHoEksCr",
   "metadata": {
    "cell_id": "00020-cdf80126-e449-4572-bbb3-277f24692ccf",
    "deepnote_cell_height": 459,
    "deepnote_cell_type": "code",
    "deepnote_to_be_reexecuted": false,
    "execution_millis": 0,
    "execution_start": 1650391105540,
    "id": "Vh_bFHoEksCr",
    "source_hash": "f5fbb4c8"
   },
   "outputs": [],
   "source": [
    "#define model structure\n",
    "def fit_model(neurons):\n",
    "    inputs = []\n",
    "    embed_layers = []\n",
    "    for (c, (in_size, out_size)) in zip(cat_col, embedding_sizes):\n",
    "        i = Input(shape=(1, )) # dim hinzufügen\n",
    "        o = Embedding(in_size, out_size, name=c)(i)\n",
    "        o = Reshape(target_shape=(out_size,))(o)\n",
    "        inputs.append(i)\n",
    "        embed_layers.append(o)\n",
    "    embed = Concatenate()(embed_layers)\n",
    "    cont_input = Input(shape=(len(num_col_lst),))\n",
    "    inputs.append(cont_input)\n",
    "    x = Concatenate()([embed, cont_input])\n",
    "    dense = Dense(neurons, activation= 'sigmoid', kernel_initializer= 'he_normal')(x)\n",
    "    d = Dropout(0.2)(dense)\n",
    "\n",
    "    output = Dense(3, activation= 'softmax')(d)\n",
    "    model = Model(inputs=inputs, outputs=output)\n",
    "    model.compile(loss='categorical_crossentropy', optimizer='adam', metrics=['accuracy'])\n",
    "    return model"
   ]
  },
  {
   "cell_type": "code",
   "execution_count": null,
   "id": "p8o-wMGxksCs",
   "metadata": {
    "cell_id": "00021-e04b90c6-5c25-4f73-8f52-0d928aaea014",
    "deepnote_cell_height": 81,
    "deepnote_cell_type": "code",
    "deepnote_to_be_reexecuted": false,
    "execution_millis": 1,
    "execution_start": 1650391113460,
    "id": "p8o-wMGxksCs",
    "source_hash": "40d01e2c"
   },
   "outputs": [],
   "source": [
    "es = EarlyStopping(monitor='val_accuracy', mode='max', verbose=1, patience = 5, restore_best_weights=True)"
   ]
  },
  {
   "cell_type": "code",
   "execution_count": null,
   "id": "dN2lYe4eksCs",
   "metadata": {
    "cell_id": "00022-b1d26f72-e256-4b80-a5b0-02ec9655b4ee",
    "deepnote_cell_height": 81,
    "deepnote_cell_type": "code",
    "deepnote_to_be_reexecuted": false,
    "execution_millis": 2193,
    "execution_start": 1650391115395,
    "id": "dN2lYe4eksCs",
    "source_hash": "6a77453d"
   },
   "outputs": [],
   "source": [
    "import matplotlib.pyplot as plt"
   ]
  },
  {
   "cell_type": "code",
   "execution_count": null,
   "id": "0amSJjSdksCt",
   "metadata": {
    "cell_id": "00023-b0337b86-c43f-4c86-bd9c-08311be42059",
    "colab": {
     "base_uri": "https://localhost:8080/",
     "height": 1000
    },
    "deepnote_cell_height": 557,
    "deepnote_cell_type": "code",
    "deepnote_to_be_reexecuted": false,
    "execution_millis": 44734,
    "execution_start": 1650391194450,
    "id": "0amSJjSdksCt",
    "outputId": "d354dd78-3d44-4525-ee14-4b04353ee4cb",
    "owner_user_id": "e4d06d89-5df2-44b5-8e40-45e8c9ca50f5",
    "source_hash": "b876cfef"
   },
   "outputs": [],
   "source": [
    "#hyperparameter optimization loop\n",
    "from datetime import datetime\n",
    "start_time = datetime.now()\n",
    "for num_neurons in [256]: \n",
    "    for batch_size in [256]:\n",
    "        model = fit_model(num_neurons)\n",
    "        history = model.fit(X_array, y, epochs=50, validation_data = (X_val_array, y_val), callbacks  = [es], verbose = 1, \n",
    "                           batch_size = batch_size)\n",
    "        _, accuracy = model.evaluate(X_val_array, y_val, verbose=1)\n",
    "        with open('model/Baseline/Baseline_all_features_excl_special+Dropout/Baseline_all_features_excl_special+Dropout.txt', 'a') as fp:\n",
    "            fp.writelines(['Number of Neurons: ' + str(num_neurons) +\n",
    "                           '\\n', 'Batch Size: ' + str(batch_size) + '\\n', 'seed1\\n',\n",
    "                           'Accuracy: ' + str(accuracy) + '\\n\\n'])\n",
    "        model.save('model/Baseline/Baseline_all_features_excl_special+Dropout/model_neurons_'+ str(num_neurons) + 'batch_size' +\n",
    "                   str(batch_size)+ '_seed1.h5')\n",
    "        plt.figure(figsize=(10, 6))\n",
    "        plt.plot(history.history['accuracy'], color = 'dodgerblue')\n",
    "        plt.plot(history.history['val_accuracy'], color = 'rebeccapurple')\n",
    "        plt.title('model accuracy')\n",
    "        plt.ylabel('accuracy')\n",
    "        plt.xlabel('epoch')\n",
    "        plt.xticks(range(0, len(history.history['accuracy'])+1, 2))\n",
    "        plt.legend(['train', 'valid'], loc='upper left')\n",
    "        plt.savefig('model/Baseline/Baseline_all_features_excl_special+Dropout/model_neurons_'+ str(num_neurons) + #\n",
    "                    'batch_size' + str(batch_size)+ '_seed1.png')\n",
    "end_time = datetime.now()\n",
    "print('Duration: {}'.format(end_time - start_time))"
   ]
  },
  {
   "cell_type": "code",
   "execution_count": null,
   "id": "UpUpUqUtrXEi",
   "metadata": {
    "id": "UpUpUqUtrXEi"
   },
   "outputs": [],
   "source": [
    "import keras"
   ]
  },
  {
   "cell_type": "code",
   "execution_count": null,
   "id": "u-8v0aTAfjaT",
   "metadata": {
    "colab": {
     "base_uri": "https://localhost:8080/"
    },
    "id": "u-8v0aTAfjaT",
    "outputId": "7612ee6c-4468-477f-8318-fcf64c2884d3",
    "scrolled": true
   },
   "outputs": [],
   "source": [
    "#insert best hyperparameters to optain predictive accuracy\n",
    "model = keras.models.load_model('model/Baseline/Baseline_all_features_excl_special+Dropout/model_neurons_256batch_size256_seed1.h5')\n",
    "_, accuracy_test = model.evaluate(X_test_array, y_test, verbose=1)\n",
    "print(accuracy_test)\n",
    "\n",
    "_, accuracy_valid = model.evaluate(X_val_array, y_val, verbose=1)\n",
    "print(accuracy_valid)\n",
    "\n",
    "_, accuracy_train = model.evaluate(X_array, y, verbose=1)\n",
    "print(accuracy_train)\n",
    "\n",
    "with open('model/Baseline/Baseline_all_features_excl_special+Dropout/Baseline_all_features_excl_special+Dropout.txt', 'a') as fp:\n",
    "    fp.writelines(['Best model accuracy on test set: ' + str(accuracy_test) + '\\n\\n', \n",
    "                   'Best model accuracy on valid set: ' + str(accuracy_valid) + '\\n\\n', \n",
    "                   'Best model accuracy on train set: ' + str(accuracy_train) + '\\n\\n'])"
   ]
  },
  {
   "cell_type": "code",
   "execution_count": null,
   "id": "5b737fe4",
   "metadata": {},
   "outputs": [],
   "source": [
    "#wirte training time to file\n",
    "with open('model/Baseline/Baseline_all_features_excl_special+Dropout/Baseline_all_features_excl_special+Dropout.txt', 'a') as fp:\n",
    "    fp.writelines(['Time needed for training:', str(end_time - start_time)])"
   ]
  }
 ],
 "metadata": {
  "colab": {
   "collapsed_sections": [],
   "name": "MLP_all_features_excl_special_features.ipynb",
   "provenance": []
  },
  "deepnote": {},
  "deepnote_execution_queue": [
   {
    "cellId": "00023-b0337b86-c43f-4c86-bd9c-08311be42059",
    "msgId": "be88a8b1-313c-42c3-95e7-202f6e832581",
    "sessionId": "38ca9101-5625-46af-b241-1dd35501300e"
   }
  ],
  "deepnote_notebook_id": "6d052db9-766a-4b87-ad5f-51f2a0948769",
  "kernelspec": {
   "display_name": "Python 3",
   "language": "python",
   "name": "python3"
  },
  "language_info": {
   "codemirror_mode": {
    "name": "ipython",
    "version": 3
   },
   "file_extension": ".py",
   "mimetype": "text/x-python",
   "name": "python",
   "nbconvert_exporter": "python",
   "pygments_lexer": "ipython3",
   "version": "3.8.8"
  }
 },
 "nbformat": 4,
 "nbformat_minor": 5
}
