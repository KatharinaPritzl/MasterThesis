{
 "cells": [
  {
   "cell_type": "code",
   "execution_count": null,
   "id": "f56fa44a",
   "metadata": {},
   "outputs": [],
   "source": [
    "import pandas as pd\n",
    "import numpy as np\n",
    "\n",
    "from sklearn.preprocessing import StandardScaler\n",
    "from fancyimpute import IterativeImputer as MICE\n",
    "from sklearn.cluster import KMeans\n",
    "import seaborn as sns\n",
    "import pygeohash as pgh\n",
    "from matplotlib import pyplot as plt"
   ]
  },
  {
   "cell_type": "code",
   "execution_count": null,
   "id": "96b435e2",
   "metadata": {},
   "outputs": [],
   "source": [
    "#function which scales the numerical features of a dataframe\n",
    "def prepare_num_features(X, cols):\n",
    "    scaler = StandardScaler()  \n",
    "    sca = scaler.fit_transform(X.values) \n",
    "    return pd.DataFrame(sca, columns = cols)"
   ]
  },
  {
   "cell_type": "code",
   "execution_count": null,
   "id": "e1416223",
   "metadata": {},
   "outputs": [],
   "source": [
    "#load data\n",
    "df = pd.read_csv('cleaned_data/full_cleaned_data.csv')\n",
    "df = df.drop(df.columns[0], axis = 1)"
   ]
  },
  {
   "cell_type": "code",
   "execution_count": null,
   "id": "580e0bdf",
   "metadata": {},
   "outputs": [],
   "source": [
    "#sort dataframe by users and time\n",
    "df = df.sort_values(by = ['EthicaID', 'startTime']).reset_index(drop = True)"
   ]
  },
  {
   "cell_type": "code",
   "execution_count": null,
   "id": "f403f8f7",
   "metadata": {},
   "outputs": [],
   "source": [
    "#df.head()"
   ]
  },
  {
   "cell_type": "markdown",
   "id": "3b8390d9",
   "metadata": {},
   "source": [
    "# Missing data imputation"
   ]
  },
  {
   "cell_type": "code",
   "execution_count": null,
   "id": "2a22e1fd",
   "metadata": {},
   "outputs": [],
   "source": [
    "df.isna().sum()"
   ]
  },
  {
   "cell_type": "code",
   "execution_count": null,
   "id": "64a85719",
   "metadata": {},
   "outputs": [],
   "source": [
    "#impute missing values\n",
    "trans = MICE(verbose=False)\n",
    "f_complete = trans.fit_transform(df[['battery', 'sex', 'age', 'latitude', 'longitude']])\n",
    "f_complete = pd.DataFrame(f_complete).set_axis(['battery', 'sex', 'age', 'latitude', 'longitude'], axis = 1)\n",
    "f_complete = f_complete[['latitude', 'longitude', 'age']]\n",
    "df = df.drop(['latitude', 'longitude', 'age'], axis = 1)\n",
    "df = pd.concat([f_complete.reset_index(drop = True), df.reset_index(drop = True)], axis = 1)"
   ]
  },
  {
   "cell_type": "code",
   "execution_count": null,
   "id": "9a217ba8",
   "metadata": {},
   "outputs": [],
   "source": [
    "df.columns"
   ]
  },
  {
   "cell_type": "code",
   "execution_count": null,
   "id": "e8979516",
   "metadata": {},
   "outputs": [],
   "source": [
    "df.isna().sum()"
   ]
  },
  {
   "cell_type": "code",
   "execution_count": null,
   "id": "8a632038",
   "metadata": {},
   "outputs": [],
   "source": [
    "#df.head()"
   ]
  },
  {
   "cell_type": "markdown",
   "id": "58ec5d8c",
   "metadata": {},
   "source": [
    "# Time-related features"
   ]
  },
  {
   "cell_type": "code",
   "execution_count": null,
   "id": "f9a28478",
   "metadata": {},
   "outputs": [],
   "source": [
    "#convert startTime and endTime to type datetime in uct format\n",
    "df['startTime'] = pd.to_datetime(df['startTime'], utc=True)\n",
    "df['endTime'] = pd.to_datetime(df['endTime'], utc=True)"
   ]
  },
  {
   "cell_type": "code",
   "execution_count": null,
   "id": "cb7f4bed",
   "metadata": {},
   "outputs": [],
   "source": [
    "##add a new column which shows the duration of usage in minutes (later used to build target)\n",
    "df['use_duration'] = df['use_duration'] = (df['endTime'] - df['startTime']).apply(lambda x: x.total_seconds())\n",
    "\n",
    "##add new variables with the time, the hours and date\n",
    "df['date'] = df['startTime'].dt.date\n",
    "df['time'] = df['startTime'].dt.time\n",
    "df['hours'] = df['startTime'].dt.strftime('%H')\n",
    "\n",
    "#add the weekday with 0 being Monday and 6 being Sunday\n",
    "df['weekday'] = df['startTime'].dt.dayofweek\n",
    "\n",
    "#drop one row were the use duration is negative\n",
    "df = df.drop(df.loc[df['use_duration'] < 0]['use_duration'].index)"
   ]
  },
  {
   "cell_type": "markdown",
   "id": "72d3c8a5",
   "metadata": {},
   "source": [
    "#construct session id --> one sessions means no more than 5 minutes between two following app events\n",
    "lst = []\n",
    "j = 1\n",
    "for i in range(len(df)): \n",
    "    if i == 0: \n",
    "        lst.append(j)\n",
    "    else: \n",
    "        if df.iloc[i]['EthicaID'] != df.iloc[i-1]['EthicaID']: \n",
    "            j+=1\n",
    "            lst.append(j)\n",
    "        else: \n",
    "            d = df.iloc[i]['startTime'] - df.iloc[i-1]['endTime']\n",
    "            d = d.total_seconds() / 60\n",
    "            if d <= 5: \n",
    "                lst.append(j)\n",
    "            else: \n",
    "                j+=1\n",
    "                lst.append(j)\n",
    "df_lst = pd.DataFrame(lst)"
   ]
  },
  {
   "cell_type": "markdown",
   "id": "38a82c14",
   "metadata": {},
   "source": [
    "session_id = pd.DataFrame(lst)"
   ]
  },
  {
   "cell_type": "markdown",
   "id": "3968c632",
   "metadata": {},
   "source": [
    "session_id = session_id.rename({0: 'session_id'}, axis = 1)"
   ]
  },
  {
   "cell_type": "code",
   "execution_count": null,
   "id": "ca8af49b",
   "metadata": {},
   "outputs": [],
   "source": [
    "df_lst = pd.read_csv('cleaned_data/session_id.csv')"
   ]
  },
  {
   "cell_type": "code",
   "execution_count": null,
   "id": "c76e14a0",
   "metadata": {},
   "outputs": [],
   "source": [
    "df_lst = df_lst[['session_id']]"
   ]
  },
  {
   "cell_type": "code",
   "execution_count": null,
   "id": "e906d99a",
   "metadata": {},
   "outputs": [],
   "source": [
    "#build two dataframes to compute session length\n",
    "df = pd.concat([df_lst, df], axis = 1).rename({0: 'session_id'}, axis = 1)\n",
    "df_session_start = df[['EthicaID', 'session_id', 'startTime']].groupby(['EthicaID', 'session_id']).min().reset_index()\n",
    "df_session_end = df[['EthicaID', 'session_id', 'endTime']].groupby(['EthicaID', 'session_id']).max().reset_index()\n",
    "\n",
    "#merge them\n",
    "df_session_timerange = pd.merge(df_session_start, df_session_end, on = ['EthicaID', 'session_id'])\n",
    "df_session_timerange = df_session_timerange.rename(columns={'startTime': 'startTime_session', 'endTime': 'endTime_session'})\n",
    "\n",
    "#compute the sessions duration for each row and convert it to minutes\n",
    "df_session_timerange['session_duration'] = df_session_timerange['endTime_session'] - df_session_timerange['startTime_session']\n",
    "df_session_timerange['session_duration'] = df_session_timerange['session_duration'].apply(lambda x: x.total_seconds())\n",
    "\n",
    "#display(df_session_timerange.head())\n",
    "\n",
    "#merge session length to appevent dataframe\n",
    "df = pd.merge(df, df_session_timerange, on = ['EthicaID', 'session_id'])"
   ]
  },
  {
   "cell_type": "code",
   "execution_count": null,
   "id": "0c152a96",
   "metadata": {},
   "outputs": [],
   "source": [
    "#check results to detect irregularities\n",
    "#df[['session_id', 'EthicaID', 'startTime', 'session_duration']].groupby(['EthicaID', 'session_id']).min().sort_values('session_duration')"
   ]
  },
  {
   "cell_type": "code",
   "execution_count": null,
   "id": "31ce870b",
   "metadata": {},
   "outputs": [],
   "source": [
    "#compute time of ongoing session\n",
    "df['duration_ongoing_session'] = df['startTime'] - df['startTime_session']\n",
    "df['duration_ongoing_session'] = df['duration_ongoing_session'].astype('timedelta64[s]')"
   ]
  },
  {
   "cell_type": "code",
   "execution_count": null,
   "id": "a911262e",
   "metadata": {},
   "outputs": [],
   "source": [
    "df.columns"
   ]
  },
  {
   "cell_type": "code",
   "execution_count": null,
   "id": "bf2f7a5c",
   "metadata": {},
   "outputs": [],
   "source": [
    "#df[['EthicaID', 'session_id', 'startTime', 'endTime', 'session_duration', 'duration_ongoing_session']]"
   ]
  },
  {
   "cell_type": "markdown",
   "id": "7da961fc",
   "metadata": {},
   "source": [
    "# Location-related features"
   ]
  },
  {
   "cell_type": "code",
   "execution_count": null,
   "id": "77c5a14d",
   "metadata": {},
   "outputs": [],
   "source": [
    "#transform latitude and longitude to a geohash with 5 characters\n",
    "df['geohash'] = df.apply(lambda x: pgh.encode(x.latitude, x.longitude, precision=5), axis=1)"
   ]
  },
  {
   "cell_type": "code",
   "execution_count": null,
   "id": "c52fa1d1",
   "metadata": {},
   "outputs": [],
   "source": [
    "#build location clusters\n",
    "objective_function=[] \n",
    "for i in range(1,11):\n",
    "    clustering=KMeans(n_clusters=i, init='k-means++')\n",
    "    clustering.fit(df[['latitude','longitude']])\n",
    "    objective_function.append(clustering.inertia_)"
   ]
  },
  {
   "cell_type": "code",
   "execution_count": null,
   "id": "93929072",
   "metadata": {},
   "outputs": [],
   "source": [
    "plt.plot(range(1,11),objective_function)\n",
    "plt.title('The Elbow Method')\n",
    "plt.xlabel('Number of Clusters K')\n",
    "plt.ylabel('objective_function')\n",
    "#plt.show()"
   ]
  },
  {
   "cell_type": "code",
   "execution_count": null,
   "id": "40f1e7aa",
   "metadata": {},
   "outputs": [],
   "source": [
    "kmeans = KMeans(8)\n",
    "clusters = kmeans.fit_predict(df[['latitude','longitude']])\n",
    "df['location_cluster'] = kmeans.predict(df[['latitude','longitude']])"
   ]
  },
  {
   "cell_type": "code",
   "execution_count": null,
   "id": "c46c5ab7",
   "metadata": {},
   "outputs": [],
   "source": [
    "df.plot.scatter(x='latitude',\n",
    "                y='longitude',\n",
    "                c='location_cluster',\n",
    "                colormap='cool_r')"
   ]
  },
  {
   "cell_type": "code",
   "execution_count": null,
   "id": "4700305b",
   "metadata": {},
   "outputs": [],
   "source": [
    "#df.head()"
   ]
  },
  {
   "cell_type": "markdown",
   "id": "0bf2e834",
   "metadata": {},
   "source": [
    "# App-history related features"
   ]
  },
  {
   "cell_type": "code",
   "execution_count": null,
   "id": "1821ff90",
   "metadata": {},
   "outputs": [],
   "source": [
    "#compute time to next app and include a column which contains the category of the next opend app\n",
    "user_length = {}\n",
    "average_per_day = {}\n",
    "average_per_hour = {}\n",
    "average_per_session = {}\n",
    "df_lst = []\n",
    "\n",
    "for user in np.unique(df['EthicaID']): \n",
    "    df_single_user = df.loc[df['EthicaID'] == user] \n",
    "    d = (pd.to_datetime(df_single_user['startTime'])[1:].reset_index(drop = True) - pd.to_datetime(df_single_user['endTime'])[:len(df_single_user)-1].reset_index(drop = True)).apply(lambda x: x.total_seconds())\n",
    "    \n",
    "    null = pd.DataFrame([0])\n",
    "    d = pd.DataFrame(d)\n",
    "    d = pd.concat([null, d], axis = 0).reset_index(drop = True)\n",
    "    #display(d)\n",
    "    df_single_user = pd.concat([df_single_user.reset_index(drop = True), d], axis = 1)\n",
    "    prev_cat = df_single_user[['category']].rename({'category': 't+1 category'}, axis = 1)[1:len(df_single_user)]\n",
    "    df_single_user = pd.concat([df_single_user, prev_cat.dropna().reset_index(drop = True)], axis =1).rename({0: 'time_to_next_app'}, axis = 1)\n",
    "    \n",
    "    to_next_next_app = df_single_user[['time_to_next_app']].rename({'time_to_next_app': 'time_to_next_app_t+1'}, axis = 1)[1:len(df_single_user)]\n",
    "    df_single_user = pd.concat([df_single_user, to_next_next_app.dropna().reset_index(drop = True)], axis =1)\n",
    "    \n",
    "    #display(df_single_user)\n",
    "    \n",
    "    df_lst.append(df_single_user)\n",
    "    \n",
    "    user_length[user] = user_length.get(user, len(df_single_user))\n",
    "    \n",
    "    per_day = round(np.average(df_single_user.groupby('date').count()['EthicaID'].values))\n",
    "    average_per_day[user] = average_per_day.get(user, per_day)\n",
    "    per_hour =  round(np.average(df_single_user.groupby(['date', 'hours']).count()['EthicaID'].values)) \n",
    "    average_per_hour[user] = average_per_hour.get(user, per_hour)\n",
    "    per_session = round(np.average(df_single_user.groupby(['session_id']).count()['EthicaID'].values)) \n",
    "    average_per_session[user] = average_per_session.get(user, per_session)"
   ]
  },
  {
   "cell_type": "code",
   "execution_count": null,
   "id": "74d375dd",
   "metadata": {},
   "outputs": [],
   "source": [
    "sum(average_per_day.values()) / len(average_per_day)"
   ]
  },
  {
   "cell_type": "code",
   "execution_count": null,
   "id": "3518060d",
   "metadata": {},
   "outputs": [],
   "source": [
    "sum(average_per_session.values()) / len(average_per_session)"
   ]
  },
  {
   "cell_type": "code",
   "execution_count": null,
   "id": "c1db686f",
   "metadata": {},
   "outputs": [],
   "source": [
    "sum(average_per_hour.values()) / len(average_per_hour)"
   ]
  },
  {
   "cell_type": "code",
   "execution_count": null,
   "id": "79342d52",
   "metadata": {},
   "outputs": [],
   "source": [
    "df_full = pd.concat(df_lst, axis = 0)\n",
    "#df_full['t+1 category'] = df_full['t+1 category'].fillna(df_full['category'].value_counts().reset_index()['index'][0])"
   ]
  },
  {
   "cell_type": "code",
   "execution_count": null,
   "id": "d688153c",
   "metadata": {},
   "outputs": [],
   "source": [
    "df_full['age_category'] = pd.qcut(df_full['age'], q=4, labels= ['17.749, 19.25', '19.25, 20.083', '20.083, 21.75', '21.75, 41.333'])"
   ]
  },
  {
   "cell_type": "code",
   "execution_count": null,
   "id": "334da9c0",
   "metadata": {
    "scrolled": true
   },
   "outputs": [],
   "source": [
    "#df_full[['category', 't+1 category', 'time_to_next_app', 'time_to_next_app_t+1', 'startTime', 'endTime']]"
   ]
  },
  {
   "cell_type": "markdown",
   "id": "b5fbdadb",
   "metadata": {},
   "source": [
    "# target"
   ]
  },
  {
   "cell_type": "code",
   "execution_count": null,
   "id": "3fc3a038",
   "metadata": {},
   "outputs": [],
   "source": [
    "#compute use duration quantiles per category to create target variable\n",
    "duration_quantiles_33 = df_full[['category', 'use_duration']].groupby('category').quantile(q = 0.33)\n",
    "duration_quantiles_33 = duration_quantiles_33.reset_index().rename({'use_duration' : '33%'}, axis = 1)\n",
    "duration_quantiles_67 = df_full[['category', 'use_duration']].groupby('category').quantile(q = 0.67)\n",
    "duration_quantiles_67 = duration_quantiles_67.reset_index().rename({'use_duration' : '67%'}, axis = 1)"
   ]
  },
  {
   "cell_type": "code",
   "execution_count": null,
   "id": "2c920630",
   "metadata": {},
   "outputs": [],
   "source": [
    "#merge both dataframes\n",
    "duration_quantiles = duration_quantiles_33.merge(duration_quantiles_67, on = 'category')"
   ]
  },
  {
   "cell_type": "code",
   "execution_count": null,
   "id": "5be9ec6e",
   "metadata": {},
   "outputs": [],
   "source": [
    "duration_quantiles.head()"
   ]
  },
  {
   "cell_type": "code",
   "execution_count": null,
   "id": "8da36be1",
   "metadata": {},
   "outputs": [],
   "source": [
    "#search for the indexes to the corresponding categories \n",
    "index_short = []\n",
    "for i in range(len(duration_quantiles)): \n",
    "    name = duration_quantiles.loc[i][0]\n",
    "    array = df[(df.category == name) & (df.use_duration <= duration_quantiles.loc[i]['33%'] )].index\n",
    "    index_short.extend(array.tolist())\n",
    "    \n",
    "index_long= []\n",
    "for i in range(len(duration_quantiles)): \n",
    "    name = duration_quantiles.loc[i][0]\n",
    "    array = df[(df.category == name) & (df.use_duration >= duration_quantiles.loc[i]['67%'])].index\n",
    "    index_long.extend(array.tolist()) "
   ]
  },
  {
   "cell_type": "code",
   "execution_count": null,
   "id": "7779836f",
   "metadata": {},
   "outputs": [],
   "source": [
    "#create dataframe with targets\n",
    "df_short = pd.DataFrame(index_short)\n",
    "df_short['target'] = 'short'\n",
    "\n",
    "df_long = pd.DataFrame(index_long)\n",
    "df_long['target'] = 'long'\n",
    "\n",
    "df_target = pd.concat([df_short, df_long], axis = 0)\n",
    "df_target = df_target.sort_values([0]).set_index([0])"
   ]
  },
  {
   "cell_type": "code",
   "execution_count": null,
   "id": "d3aea6dc",
   "metadata": {},
   "outputs": [],
   "source": [
    "df_target.head()"
   ]
  },
  {
   "cell_type": "code",
   "execution_count": null,
   "id": "888a2b4a",
   "metadata": {},
   "outputs": [],
   "source": [
    "df_full[['use_duration', 'category','target']].head()"
   ]
  },
  {
   "cell_type": "code",
   "execution_count": null,
   "id": "f6a3377c",
   "metadata": {},
   "outputs": [],
   "source": [
    "#join it to the original dataframe and impute the missing category\n",
    "df_full = pd.concat([df_full.reset_index(drop = True), df_target], axis = 1)\n",
    "df_full['target'] = df_full['target'].fillna('medium')"
   ]
  },
  {
   "cell_type": "code",
   "execution_count": null,
   "id": "d3ac7dee",
   "metadata": {},
   "outputs": [],
   "source": [
    "#df_full.head()"
   ]
  },
  {
   "cell_type": "code",
   "execution_count": null,
   "id": "662c2ff2",
   "metadata": {},
   "outputs": [],
   "source": [
    "df_full.to_csv('cleaned_data/data_for_eda.csv')"
   ]
  },
  {
   "cell_type": "markdown",
   "id": "f73fec57",
   "metadata": {},
   "source": [
    "# Scaling of numerical features"
   ]
  },
  {
   "cell_type": "code",
   "execution_count": null,
   "id": "9c017d46",
   "metadata": {},
   "outputs": [],
   "source": [
    "#scale numerical features and put them together with needed other variables\n",
    "df_num = df_full[['use_duration', 'duration_ongoing_session', 'time_to_next_app',  'time_to_next_app_t+1']]\n",
    "df_num_sca = prepare_num_features(df_num,['use_duration', 'duration_ongoing_session', 'time_to_next_app',  'time_to_next_app_t+1'])\n",
    "df_cat = df_full.drop(['use_duration', 'duration_ongoing_session', 'time_to_next_app',  'time_to_next_app_t+1'], axis = 1)"
   ]
  },
  {
   "cell_type": "code",
   "execution_count": null,
   "id": "9a43aaae",
   "metadata": {},
   "outputs": [],
   "source": [
    "df_full = pd.concat([df_cat.reset_index(drop = True), df_num_sca.reset_index(drop = True)], axis = 1)"
   ]
  },
  {
   "cell_type": "code",
   "execution_count": null,
   "id": "8c38ddd8",
   "metadata": {},
   "outputs": [],
   "source": [
    "df_full.columns"
   ]
  },
  {
   "cell_type": "code",
   "execution_count": null,
   "id": "5340d049",
   "metadata": {},
   "outputs": [],
   "source": [
    "#df_full.head()"
   ]
  },
  {
   "cell_type": "code",
   "execution_count": null,
   "id": "5e52c9c4",
   "metadata": {},
   "outputs": [],
   "source": [
    "df_reduced = df_full[['EthicaID', 'use_duration', 'duration_ongoing_session', 'time_to_next_app',  'time_to_next_app_t+1',\n",
    "                      'age_category','sex', \n",
    "                      'notification', 'battery','category','t+1 category',\n",
    "                      'hours', 'weekday', 'geohash', 'location_cluster', 'target']]"
   ]
  },
  {
   "cell_type": "code",
   "execution_count": null,
   "id": "c2346a38",
   "metadata": {
    "scrolled": true
   },
   "outputs": [],
   "source": [
    "#df_reduced.head()"
   ]
  },
  {
   "cell_type": "code",
   "execution_count": null,
   "id": "3a97d619",
   "metadata": {},
   "outputs": [],
   "source": [
    "df_reduced.to_csv('cleaned_data/data_with_features.csv')"
   ]
  },
  {
   "cell_type": "code",
   "execution_count": null,
   "id": "172476a1",
   "metadata": {},
   "outputs": [],
   "source": [
    "session_id.to_csv('cleaned_data/session_id.csv')"
   ]
  }
 ],
 "metadata": {
  "kernelspec": {
   "display_name": "Python 3 (ipykernel)",
   "language": "python",
   "name": "python3"
  },
  "language_info": {
   "codemirror_mode": {
    "name": "ipython",
    "version": 3
   },
   "file_extension": ".py",
   "mimetype": "text/x-python",
   "name": "python",
   "nbconvert_exporter": "python",
   "pygments_lexer": "ipython3",
   "version": "3.8.10"
  }
 },
 "nbformat": 4,
 "nbformat_minor": 5
}
