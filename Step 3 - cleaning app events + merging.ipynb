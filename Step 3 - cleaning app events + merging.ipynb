{
 "cells": [
  {
   "cell_type": "code",
   "execution_count": 1,
   "id": "acefc725",
   "metadata": {},
   "outputs": [],
   "source": [
    "import glob\n",
    "import os\n",
    "import pandas as pd\n",
    "import numpy as np \n",
    "from fancyimpute import IterativeImputer as MICE"
   ]
  },
  {
   "cell_type": "markdown",
   "id": "a369b1ca",
   "metadata": {},
   "source": [
    "# Data Loading"
   ]
  },
  {
   "cell_type": "code",
   "execution_count": 2,
   "id": "e6eae6eb",
   "metadata": {},
   "outputs": [],
   "source": [
    "#laod all different user files related to the recoreded appevents into one dataframe\n",
    "path_appevents = 'Data for thesis students/data_myphone/appevents'\n",
    "csv_files_appevents = glob.glob(os.path.join(path_appevents, \"*.csv\"))\n",
    "\n",
    "df_appevents = pd.DataFrame()\n",
    "for f in csv_files_appevents:\n",
    "    csv = pd.read_csv(f, sep = \";\")\n",
    "    df_appevents = pd.concat([df_appevents, csv])\n",
    "    \n",
    "df_appevents = df_appevents.drop(df_appevents.columns[0], axis = 1)"
   ]
  },
  {
   "cell_type": "code",
   "execution_count": 3,
   "id": "c06041b5",
   "metadata": {},
   "outputs": [],
   "source": [
    "#load the dataframe with the categories and app names\n",
    "df_playstore = pd.read_csv('cleaned_data/playstore.csv')\n",
    "df_playstore = df_playstore.drop(df_playstore.columns[0], axis = 1)"
   ]
  },
  {
   "cell_type": "code",
   "execution_count": 4,
   "id": "6884848d",
   "metadata": {},
   "outputs": [],
   "source": [
    "#load demographics dataframe and keys for merging\n",
    "df_demographics = pd.read_csv('cleaned_data/demographics.csv')\n",
    "df_demographics = df_demographics.drop(df_demographics.columns[0], axis = 1)\n",
    "df_key = pd.read_csv('Data for thesis students/anonymized_key.csv')\n",
    "df_key = df_key.drop(df_key.columns[0], axis = 1)"
   ]
  },
  {
   "cell_type": "markdown",
   "id": "5136e17e",
   "metadata": {},
   "source": [
    "alternative for categories\n",
    "df_categories = pd.read_csv('cleaned_data/categories_short.csv')\n",
    "df_categories = df_categories.drop(df_categories.columns[0], axis = 1)"
   ]
  },
  {
   "cell_type": "code",
   "execution_count": 5,
   "id": "5b0e0d5b",
   "metadata": {},
   "outputs": [
    {
     "data": {
      "text/plain": [
       "Index(['endTimeMillis', 'id', 'model', 'session', 'startTimeMillis',\n",
       "       'startTime', 'endTime', 'notification', 'notificationId', 'application',\n",
       "       'battery', 'latitude', 'longitude', 'studyKey', 'surveyId',\n",
       "       'data_version'],\n",
       "      dtype='object')"
      ]
     },
     "execution_count": 5,
     "metadata": {},
     "output_type": "execute_result"
    }
   ],
   "source": [
    "df_appevents.columns"
   ]
  },
  {
   "cell_type": "code",
   "execution_count": 7,
   "id": "57035689",
   "metadata": {},
   "outputs": [
    {
     "data": {
      "text/plain": [
       "Index(['App Id', 'App Name', 'Category'], dtype='object')"
      ]
     },
     "execution_count": 7,
     "metadata": {},
     "output_type": "execute_result"
    }
   ],
   "source": [
    "df_playstore.columns"
   ]
  },
  {
   "cell_type": "code",
   "execution_count": 1,
   "id": "08738758",
   "metadata": {},
   "outputs": [],
   "source": [
    "#df_appevents.head()"
   ]
  },
  {
   "cell_type": "markdown",
   "id": "30279bbd",
   "metadata": {},
   "source": [
    "# Merging with categories and demographics"
   ]
  },
  {
   "cell_type": "code",
   "execution_count": 8,
   "id": "99ef9124",
   "metadata": {},
   "outputs": [],
   "source": [
    "df_appevents = df_appevents.rename({'application': 'app_id'}, axis = 1)\n",
    "df_playstore = df_playstore.rename({'App Id': 'app_id', 'Category': 'category'}, axis = 1)"
   ]
  },
  {
   "cell_type": "code",
   "execution_count": 9,
   "id": "5fa1b08b",
   "metadata": {},
   "outputs": [],
   "source": [
    "#merge the app-logs with the corresponding app names and categories \n",
    "df = pd.merge(df_appevents, df_playstore, on = ['app_id'])"
   ]
  },
  {
   "cell_type": "code",
   "execution_count": 10,
   "id": "0180dbe0",
   "metadata": {},
   "outputs": [
    {
     "data": {
      "text/plain": [
       "Index(['endTimeMillis', 'id', 'model', 'session', 'startTimeMillis',\n",
       "       'startTime', 'endTime', 'notification', 'notificationId', 'app_id',\n",
       "       'battery', 'latitude', 'longitude', 'studyKey', 'surveyId',\n",
       "       'data_version', 'App Name', 'category'],\n",
       "      dtype='object')"
      ]
     },
     "execution_count": 10,
     "metadata": {},
     "output_type": "execute_result"
    }
   ],
   "source": [
    "df.columns"
   ]
  },
  {
   "cell_type": "code",
   "execution_count": 15,
   "id": "0c0d58c0",
   "metadata": {},
   "outputs": [],
   "source": [
    "#Merge dataframe with the keys to allow for merging with the demographic data\n",
    "df = df.rename(columns={'id': 'MobileDNA'})\n",
    "df = df.merge(df_key[['MobileDNA', 'Ethica']], on='MobileDNA').rename(columns={'Ethica': 'EthicaID'})\n",
    "df = pd.merge(df, df_demographics, on = ['EthicaID'])\n",
    "df = df.rename({'Age': 'age', 'Sex': 'sex'}, axis = 1)"
   ]
  },
  {
   "cell_type": "code",
   "execution_count": 2,
   "id": "70e63b22",
   "metadata": {},
   "outputs": [],
   "source": [
    "#df.head()"
   ]
  },
  {
   "cell_type": "code",
   "execution_count": 17,
   "id": "56196465",
   "metadata": {},
   "outputs": [
    {
     "data": {
      "text/plain": [
       "Index(['endTimeMillis', 'MobileDNA', 'model', 'session', 'startTimeMillis',\n",
       "       'startTime', 'endTime', 'notification', 'notificationId', 'app_id',\n",
       "       'battery', 'latitude', 'longitude', 'studyKey', 'surveyId',\n",
       "       'data_version', 'App Name', 'category', 'EthicaID', 'age', 'sex'],\n",
       "      dtype='object')"
      ]
     },
     "execution_count": 17,
     "metadata": {},
     "output_type": "execute_result"
    }
   ],
   "source": [
    "df.columns"
   ]
  },
  {
   "cell_type": "markdown",
   "id": "e8195f57",
   "metadata": {},
   "source": [
    "# Data Cleaning"
   ]
  },
  {
   "cell_type": "code",
   "execution_count": 18,
   "id": "4d482238",
   "metadata": {},
   "outputs": [
    {
     "name": "stdout",
     "output_type": "stream",
     "text": [
      "107122 duplicate records were dropped\n"
     ]
    },
    {
     "data": {
      "text/plain": [
       "endTimeMillis          0\n",
       "MobileDNA              0\n",
       "model                  0\n",
       "session                0\n",
       "startTimeMillis        0\n",
       "startTime              0\n",
       "endTime                0\n",
       "notification           0\n",
       "notificationId         0\n",
       "app_id                 0\n",
       "battery                0\n",
       "latitude               0\n",
       "longitude              0\n",
       "studyKey               0\n",
       "surveyId               0\n",
       "data_version           0\n",
       "App Name               0\n",
       "category               0\n",
       "EthicaID               0\n",
       "age                52606\n",
       "sex                    0\n",
       "dtype: int64"
      ]
     },
     "execution_count": 18,
     "metadata": {},
     "output_type": "execute_result"
    }
   ],
   "source": [
    "#drop duplicates\n",
    "before = len(df)\n",
    "df = df.drop_duplicates()\n",
    "after = len(df)\n",
    "print(before - after, 'duplicate records were dropped')\n",
    "\n",
    "#search for missing values\n",
    "df.isna().sum() #age has missing value, will be imputed later \n",
    "\n",
    "#check the datatypes of all columns "
   ]
  },
  {
   "cell_type": "code",
   "execution_count": 20,
   "id": "2e4ec403",
   "metadata": {},
   "outputs": [],
   "source": [
    "#make location values which are not useful missing\n",
    "df['latitude'] = df['latitude'].replace(0 ,np.NaN)\n",
    "df['longitude'] = df['longitude'].replace(0 ,np.NaN)\n",
    "df.isna().sum()"
   ]
  },
  {
   "cell_type": "code",
   "execution_count": 22,
   "id": "83db112f",
   "metadata": {
    "scrolled": true
   },
   "outputs": [
    {
     "data": {
      "text/plain": [
       "186"
      ]
     },
     "execution_count": 22,
     "metadata": {},
     "output_type": "execute_result"
    }
   ],
   "source": [
    "#drop users with less than 5000 recorded events \n",
    "count = df.groupby('EthicaID')['App Name'].count().reset_index()\n",
    "users = count.loc[count['App Name'] < 5000]['EthicaID']\n",
    "for i in users: \n",
    "    df = df[~df.EthicaID.str.contains(i)]\n",
    "len(df['EthicaID'].unique()) #186 users left "
   ]
  },
  {
   "cell_type": "code",
   "execution_count": 23,
   "id": "dc5aa2bc",
   "metadata": {},
   "outputs": [],
   "source": [
    "df.to_csv('cleaned_data/full_cleaned_data.csv')"
   ]
  }
 ],
 "metadata": {
  "kernelspec": {
   "display_name": "Python 3 (ipykernel)",
   "language": "python",
   "name": "python3"
  },
  "language_info": {
   "codemirror_mode": {
    "name": "ipython",
    "version": 3
   },
   "file_extension": ".py",
   "mimetype": "text/x-python",
   "name": "python",
   "nbconvert_exporter": "python",
   "pygments_lexer": "ipython3",
   "version": "3.8.10"
  }
 },
 "nbformat": 4,
 "nbformat_minor": 5
}
