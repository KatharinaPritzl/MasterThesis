{
 "cells": [
  {
   "cell_type": "code",
   "execution_count": 1,
   "id": "acefc725",
   "metadata": {},
   "outputs": [],
   "source": [
    "import glob\n",
    "import os\n",
    "import pandas as pd\n",
    "import numpy as np \n",
    "from fancyimpute import IterativeImputer as MICE"
   ]
  },
  {
   "cell_type": "markdown",
   "id": "a369b1ca",
   "metadata": {},
   "source": [
    "# Data Loading"
   ]
  },
  {
   "cell_type": "code",
   "execution_count": 2,
   "id": "e6eae6eb",
   "metadata": {},
   "outputs": [],
   "source": [
    "#laod all different user files related to the recoreded appevents into one dataframe\n",
    "path_appevents = 'Data for thesis students/data_myphone/appevents'\n",
    "csv_files_appevents = glob.glob(os.path.join(path_appevents, \"*.csv\"))\n",
    "\n",
    "df_appevents = pd.DataFrame()\n",
    "for f in csv_files_appevents:\n",
    "    csv = pd.read_csv(f, sep = \";\")\n",
    "    df_appevents = pd.concat([df_appevents, csv])\n",
    "    \n",
    "df_appevents = df_appevents.drop(df_appevents.columns[0], axis = 1)"
   ]
  },
  {
   "cell_type": "code",
   "execution_count": 3,
   "id": "c06041b5",
   "metadata": {},
   "outputs": [],
   "source": [
    "#load the dataframe with the categories and app names\n",
    "df_playstore = pd.read_csv('cleaned_data/playstore.csv')\n",
    "df_playstore = df_playstore.drop(df_playstore.columns[0], axis = 1)"
   ]
  },
  {
   "cell_type": "code",
   "execution_count": 4,
   "id": "6884848d",
   "metadata": {},
   "outputs": [],
   "source": [
    "#load demographics dataframe and keys for merging\n",
    "df_demographics = pd.read_csv('cleaned_data/demographics.csv')\n",
    "df_demographics = df_demographics.drop(df_demographics.columns[0], axis = 1)\n",
    "df_key = pd.read_csv('Data for thesis students/anonymized_key.csv')\n",
    "df_key = df_key.drop(df_key.columns[0], axis = 1)"
   ]
  },
  {
   "cell_type": "markdown",
   "id": "5136e17e",
   "metadata": {},
   "source": [
    "alternative for categories\n",
    "df_categories = pd.read_csv('cleaned_data/categories_short.csv')\n",
    "df_categories = df_categories.drop(df_categories.columns[0], axis = 1)"
   ]
  },
  {
   "cell_type": "code",
   "execution_count": 5,
   "id": "5b0e0d5b",
   "metadata": {},
   "outputs": [
    {
     "data": {
      "text/plain": [
       "Index(['endTimeMillis', 'id', 'model', 'session', 'startTimeMillis',\n",
       "       'startTime', 'endTime', 'notification', 'notificationId', 'application',\n",
       "       'battery', 'latitude', 'longitude', 'studyKey', 'surveyId',\n",
       "       'data_version'],\n",
       "      dtype='object')"
      ]
     },
     "execution_count": 5,
     "metadata": {},
     "output_type": "execute_result"
    }
   ],
   "source": [
    "df_appevents.columns"
   ]
  },
  {
   "cell_type": "code",
   "execution_count": 7,
   "id": "57035689",
   "metadata": {},
   "outputs": [
    {
     "data": {
      "text/plain": [
       "Index(['App Id', 'App Name', 'Category'], dtype='object')"
      ]
     },
     "execution_count": 7,
     "metadata": {},
     "output_type": "execute_result"
    }
   ],
   "source": [
    "df_playstore.columns"
   ]
  },
  {
   "cell_type": "code",
   "execution_count": 6,
   "id": "08738758",
   "metadata": {},
   "outputs": [
    {
     "data": {
      "text/html": [
       "<div>\n",
       "<style scoped>\n",
       "    .dataframe tbody tr th:only-of-type {\n",
       "        vertical-align: middle;\n",
       "    }\n",
       "\n",
       "    .dataframe tbody tr th {\n",
       "        vertical-align: top;\n",
       "    }\n",
       "\n",
       "    .dataframe thead th {\n",
       "        text-align: right;\n",
       "    }\n",
       "</style>\n",
       "<table border=\"1\" class=\"dataframe\">\n",
       "  <thead>\n",
       "    <tr style=\"text-align: right;\">\n",
       "      <th></th>\n",
       "      <th>endTimeMillis</th>\n",
       "      <th>id</th>\n",
       "      <th>model</th>\n",
       "      <th>session</th>\n",
       "      <th>startTimeMillis</th>\n",
       "      <th>startTime</th>\n",
       "      <th>endTime</th>\n",
       "      <th>notification</th>\n",
       "      <th>notificationId</th>\n",
       "      <th>application</th>\n",
       "      <th>battery</th>\n",
       "      <th>latitude</th>\n",
       "      <th>longitude</th>\n",
       "      <th>studyKey</th>\n",
       "      <th>surveyId</th>\n",
       "      <th>data_version</th>\n",
       "    </tr>\n",
       "  </thead>\n",
       "  <tbody>\n",
       "    <tr>\n",
       "      <th>0</th>\n",
       "      <td>1.580733e+12</td>\n",
       "      <td>a4e7d00a-7e96-47b6-a865-dc32f3ebc533</td>\n",
       "      <td>moto g(8) plus</td>\n",
       "      <td>1.580733e+09</td>\n",
       "      <td>1.580733e+12</td>\n",
       "      <td>2020-02-03T13:26:36.106</td>\n",
       "      <td>2020-02-03T13:26:48.545</td>\n",
       "      <td>False</td>\n",
       "      <td>0.0</td>\n",
       "      <td>com.whatsapp</td>\n",
       "      <td>73.0</td>\n",
       "      <td>51.5631</td>\n",
       "      <td>5.044949</td>\n",
       "      <td>MYPHONE</td>\n",
       "      <td>09071997qujaje</td>\n",
       "      <td>1.6</td>\n",
       "    </tr>\n",
       "    <tr>\n",
       "      <th>1</th>\n",
       "      <td>1.580733e+12</td>\n",
       "      <td>a4e7d00a-7e96-47b6-a865-dc32f3ebc533</td>\n",
       "      <td>moto g(8) plus</td>\n",
       "      <td>1.580733e+09</td>\n",
       "      <td>1.580733e+12</td>\n",
       "      <td>2020-02-03T13:29:58.420</td>\n",
       "      <td>2020-02-03T13:30:57.304</td>\n",
       "      <td>False</td>\n",
       "      <td>0.0</td>\n",
       "      <td>com.instagram.android</td>\n",
       "      <td>73.0</td>\n",
       "      <td>51.5631</td>\n",
       "      <td>5.044949</td>\n",
       "      <td>MYPHONE</td>\n",
       "      <td>09071997qujaje</td>\n",
       "      <td>1.6</td>\n",
       "    </tr>\n",
       "    <tr>\n",
       "      <th>2</th>\n",
       "      <td>1.580733e+12</td>\n",
       "      <td>a4e7d00a-7e96-47b6-a865-dc32f3ebc533</td>\n",
       "      <td>moto g(8) plus</td>\n",
       "      <td>1.580733e+09</td>\n",
       "      <td>1.580733e+12</td>\n",
       "      <td>2020-02-03T13:30:58.327</td>\n",
       "      <td>2020-02-03T13:33:10.533</td>\n",
       "      <td>False</td>\n",
       "      <td>0.0</td>\n",
       "      <td>com.facebook.katana</td>\n",
       "      <td>73.0</td>\n",
       "      <td>51.5631</td>\n",
       "      <td>5.044949</td>\n",
       "      <td>MYPHONE</td>\n",
       "      <td>09071997qujaje</td>\n",
       "      <td>1.6</td>\n",
       "    </tr>\n",
       "    <tr>\n",
       "      <th>3</th>\n",
       "      <td>1.580735e+12</td>\n",
       "      <td>a4e7d00a-7e96-47b6-a865-dc32f3ebc533</td>\n",
       "      <td>moto g(8) plus</td>\n",
       "      <td>1.580733e+09</td>\n",
       "      <td>1.580735e+12</td>\n",
       "      <td>2020-02-03T13:56:12.187</td>\n",
       "      <td>2020-02-03T13:56:29.987</td>\n",
       "      <td>True</td>\n",
       "      <td>1.0</td>\n",
       "      <td>com.whatsapp</td>\n",
       "      <td>70.0</td>\n",
       "      <td>51.5631</td>\n",
       "      <td>5.044949</td>\n",
       "      <td>MYPHONE</td>\n",
       "      <td>09071997qujaje</td>\n",
       "      <td>1.6</td>\n",
       "    </tr>\n",
       "    <tr>\n",
       "      <th>4</th>\n",
       "      <td>1.580735e+12</td>\n",
       "      <td>a4e7d00a-7e96-47b6-a865-dc32f3ebc533</td>\n",
       "      <td>moto g(8) plus</td>\n",
       "      <td>1.580733e+09</td>\n",
       "      <td>1.580735e+12</td>\n",
       "      <td>2020-02-03T13:56:30.000</td>\n",
       "      <td>2020-02-03T13:56:31.461</td>\n",
       "      <td>False</td>\n",
       "      <td>0.0</td>\n",
       "      <td>com.whatsapp</td>\n",
       "      <td>70.0</td>\n",
       "      <td>51.5631</td>\n",
       "      <td>5.044949</td>\n",
       "      <td>MYPHONE</td>\n",
       "      <td>09071997qujaje</td>\n",
       "      <td>1.6</td>\n",
       "    </tr>\n",
       "  </tbody>\n",
       "</table>\n",
       "</div>"
      ],
      "text/plain": [
       "   endTimeMillis                                    id           model  \\\n",
       "0   1.580733e+12  a4e7d00a-7e96-47b6-a865-dc32f3ebc533  moto g(8) plus   \n",
       "1   1.580733e+12  a4e7d00a-7e96-47b6-a865-dc32f3ebc533  moto g(8) plus   \n",
       "2   1.580733e+12  a4e7d00a-7e96-47b6-a865-dc32f3ebc533  moto g(8) plus   \n",
       "3   1.580735e+12  a4e7d00a-7e96-47b6-a865-dc32f3ebc533  moto g(8) plus   \n",
       "4   1.580735e+12  a4e7d00a-7e96-47b6-a865-dc32f3ebc533  moto g(8) plus   \n",
       "\n",
       "        session  startTimeMillis                startTime  \\\n",
       "0  1.580733e+09     1.580733e+12  2020-02-03T13:26:36.106   \n",
       "1  1.580733e+09     1.580733e+12  2020-02-03T13:29:58.420   \n",
       "2  1.580733e+09     1.580733e+12  2020-02-03T13:30:58.327   \n",
       "3  1.580733e+09     1.580735e+12  2020-02-03T13:56:12.187   \n",
       "4  1.580733e+09     1.580735e+12  2020-02-03T13:56:30.000   \n",
       "\n",
       "                   endTime notification  notificationId  \\\n",
       "0  2020-02-03T13:26:48.545        False             0.0   \n",
       "1  2020-02-03T13:30:57.304        False             0.0   \n",
       "2  2020-02-03T13:33:10.533        False             0.0   \n",
       "3  2020-02-03T13:56:29.987         True             1.0   \n",
       "4  2020-02-03T13:56:31.461        False             0.0   \n",
       "\n",
       "             application  battery  latitude  longitude studyKey  \\\n",
       "0           com.whatsapp     73.0   51.5631   5.044949  MYPHONE   \n",
       "1  com.instagram.android     73.0   51.5631   5.044949  MYPHONE   \n",
       "2    com.facebook.katana     73.0   51.5631   5.044949  MYPHONE   \n",
       "3           com.whatsapp     70.0   51.5631   5.044949  MYPHONE   \n",
       "4           com.whatsapp     70.0   51.5631   5.044949  MYPHONE   \n",
       "\n",
       "         surveyId  data_version  \n",
       "0  09071997qujaje           1.6  \n",
       "1  09071997qujaje           1.6  \n",
       "2  09071997qujaje           1.6  \n",
       "3  09071997qujaje           1.6  \n",
       "4  09071997qujaje           1.6  "
      ]
     },
     "execution_count": 6,
     "metadata": {},
     "output_type": "execute_result"
    }
   ],
   "source": [
    "df_appevents.head()"
   ]
  },
  {
   "cell_type": "markdown",
   "id": "30279bbd",
   "metadata": {},
   "source": [
    "# Merging with categories and demographics"
   ]
  },
  {
   "cell_type": "code",
   "execution_count": 8,
   "id": "99ef9124",
   "metadata": {},
   "outputs": [],
   "source": [
    "df_appevents = df_appevents.rename({'application': 'app_id'}, axis = 1)\n",
    "df_playstore = df_playstore.rename({'App Id': 'app_id', 'Category': 'category'}, axis = 1)"
   ]
  },
  {
   "cell_type": "code",
   "execution_count": 9,
   "id": "5fa1b08b",
   "metadata": {},
   "outputs": [],
   "source": [
    "#merge the app-logs with the corresponding app names and categories \n",
    "df = pd.merge(df_appevents, df_playstore, on = ['app_id'])"
   ]
  },
  {
   "cell_type": "code",
   "execution_count": 10,
   "id": "0180dbe0",
   "metadata": {},
   "outputs": [
    {
     "data": {
      "text/plain": [
       "Index(['endTimeMillis', 'id', 'model', 'session', 'startTimeMillis',\n",
       "       'startTime', 'endTime', 'notification', 'notificationId', 'app_id',\n",
       "       'battery', 'latitude', 'longitude', 'studyKey', 'surveyId',\n",
       "       'data_version', 'App Name', 'category'],\n",
       "      dtype='object')"
      ]
     },
     "execution_count": 10,
     "metadata": {},
     "output_type": "execute_result"
    }
   ],
   "source": [
    "df.columns"
   ]
  },
  {
   "cell_type": "code",
   "execution_count": 15,
   "id": "0c0d58c0",
   "metadata": {},
   "outputs": [],
   "source": [
    "#Merge dataframe with the keys to allow for merging with the demographic data\n",
    "df = df.rename(columns={'id': 'MobileDNA'})\n",
    "df = df.merge(df_key[['MobileDNA', 'Ethica']], on='MobileDNA').rename(columns={'Ethica': 'EthicaID'})\n",
    "df = pd.merge(df, df_demographics, on = ['EthicaID'])\n",
    "df = df.rename({'Age': 'age', 'Sex': 'sex'}, axis = 1)"
   ]
  },
  {
   "cell_type": "code",
   "execution_count": 16,
   "id": "70e63b22",
   "metadata": {},
   "outputs": [
    {
     "data": {
      "text/html": [
       "<div>\n",
       "<style scoped>\n",
       "    .dataframe tbody tr th:only-of-type {\n",
       "        vertical-align: middle;\n",
       "    }\n",
       "\n",
       "    .dataframe tbody tr th {\n",
       "        vertical-align: top;\n",
       "    }\n",
       "\n",
       "    .dataframe thead th {\n",
       "        text-align: right;\n",
       "    }\n",
       "</style>\n",
       "<table border=\"1\" class=\"dataframe\">\n",
       "  <thead>\n",
       "    <tr style=\"text-align: right;\">\n",
       "      <th></th>\n",
       "      <th>endTimeMillis</th>\n",
       "      <th>MobileDNA</th>\n",
       "      <th>model</th>\n",
       "      <th>session</th>\n",
       "      <th>startTimeMillis</th>\n",
       "      <th>startTime</th>\n",
       "      <th>endTime</th>\n",
       "      <th>notification</th>\n",
       "      <th>notificationId</th>\n",
       "      <th>app_id</th>\n",
       "      <th>...</th>\n",
       "      <th>latitude</th>\n",
       "      <th>longitude</th>\n",
       "      <th>studyKey</th>\n",
       "      <th>surveyId</th>\n",
       "      <th>data_version</th>\n",
       "      <th>App Name</th>\n",
       "      <th>category</th>\n",
       "      <th>EthicaID</th>\n",
       "      <th>age</th>\n",
       "      <th>sex</th>\n",
       "    </tr>\n",
       "  </thead>\n",
       "  <tbody>\n",
       "    <tr>\n",
       "      <th>0</th>\n",
       "      <td>1.580733e+12</td>\n",
       "      <td>a4e7d00a-7e96-47b6-a865-dc32f3ebc533</td>\n",
       "      <td>moto g(8) plus</td>\n",
       "      <td>1.580733e+09</td>\n",
       "      <td>1.580733e+12</td>\n",
       "      <td>2020-02-03T13:26:36.106</td>\n",
       "      <td>2020-02-03T13:26:48.545</td>\n",
       "      <td>False</td>\n",
       "      <td>0.0</td>\n",
       "      <td>com.whatsapp</td>\n",
       "      <td>...</td>\n",
       "      <td>51.563100</td>\n",
       "      <td>5.044949</td>\n",
       "      <td>MYPHONE</td>\n",
       "      <td>09071997qujaje</td>\n",
       "      <td>1.6</td>\n",
       "      <td>WhatsApp Messenger</td>\n",
       "      <td>Communication</td>\n",
       "      <td>User #17984</td>\n",
       "      <td>22.5</td>\n",
       "      <td>2</td>\n",
       "    </tr>\n",
       "    <tr>\n",
       "      <th>1</th>\n",
       "      <td>1.580735e+12</td>\n",
       "      <td>a4e7d00a-7e96-47b6-a865-dc32f3ebc533</td>\n",
       "      <td>moto g(8) plus</td>\n",
       "      <td>1.580733e+09</td>\n",
       "      <td>1.580735e+12</td>\n",
       "      <td>2020-02-03T13:56:12.187</td>\n",
       "      <td>2020-02-03T13:56:29.987</td>\n",
       "      <td>True</td>\n",
       "      <td>1.0</td>\n",
       "      <td>com.whatsapp</td>\n",
       "      <td>...</td>\n",
       "      <td>51.563100</td>\n",
       "      <td>5.044949</td>\n",
       "      <td>MYPHONE</td>\n",
       "      <td>09071997qujaje</td>\n",
       "      <td>1.6</td>\n",
       "      <td>WhatsApp Messenger</td>\n",
       "      <td>Communication</td>\n",
       "      <td>User #17984</td>\n",
       "      <td>22.5</td>\n",
       "      <td>2</td>\n",
       "    </tr>\n",
       "    <tr>\n",
       "      <th>2</th>\n",
       "      <td>1.580735e+12</td>\n",
       "      <td>a4e7d00a-7e96-47b6-a865-dc32f3ebc533</td>\n",
       "      <td>moto g(8) plus</td>\n",
       "      <td>1.580733e+09</td>\n",
       "      <td>1.580735e+12</td>\n",
       "      <td>2020-02-03T13:56:30.000</td>\n",
       "      <td>2020-02-03T13:56:31.461</td>\n",
       "      <td>False</td>\n",
       "      <td>0.0</td>\n",
       "      <td>com.whatsapp</td>\n",
       "      <td>...</td>\n",
       "      <td>51.563100</td>\n",
       "      <td>5.044949</td>\n",
       "      <td>MYPHONE</td>\n",
       "      <td>09071997qujaje</td>\n",
       "      <td>1.6</td>\n",
       "      <td>WhatsApp Messenger</td>\n",
       "      <td>Communication</td>\n",
       "      <td>User #17984</td>\n",
       "      <td>22.5</td>\n",
       "      <td>2</td>\n",
       "    </tr>\n",
       "    <tr>\n",
       "      <th>3</th>\n",
       "      <td>1.580736e+12</td>\n",
       "      <td>a4e7d00a-7e96-47b6-a865-dc32f3ebc533</td>\n",
       "      <td>moto g(8) plus</td>\n",
       "      <td>1.580736e+09</td>\n",
       "      <td>1.580736e+12</td>\n",
       "      <td>2020-02-03T14:20:28.245</td>\n",
       "      <td>2020-02-03T14:20:29.704</td>\n",
       "      <td>False</td>\n",
       "      <td>0.0</td>\n",
       "      <td>com.whatsapp</td>\n",
       "      <td>...</td>\n",
       "      <td>51.562456</td>\n",
       "      <td>5.048277</td>\n",
       "      <td>MYPHONE</td>\n",
       "      <td>09071997qujaje</td>\n",
       "      <td>1.6</td>\n",
       "      <td>WhatsApp Messenger</td>\n",
       "      <td>Communication</td>\n",
       "      <td>User #17984</td>\n",
       "      <td>22.5</td>\n",
       "      <td>2</td>\n",
       "    </tr>\n",
       "    <tr>\n",
       "      <th>4</th>\n",
       "      <td>1.580736e+12</td>\n",
       "      <td>a4e7d00a-7e96-47b6-a865-dc32f3ebc533</td>\n",
       "      <td>moto g(8) plus</td>\n",
       "      <td>1.580736e+09</td>\n",
       "      <td>1.580736e+12</td>\n",
       "      <td>2020-02-03T14:24:24.436</td>\n",
       "      <td>2020-02-03T14:25:01.988</td>\n",
       "      <td>True</td>\n",
       "      <td>1.0</td>\n",
       "      <td>com.whatsapp</td>\n",
       "      <td>...</td>\n",
       "      <td>51.562456</td>\n",
       "      <td>5.048277</td>\n",
       "      <td>MYPHONE</td>\n",
       "      <td>09071997qujaje</td>\n",
       "      <td>1.6</td>\n",
       "      <td>WhatsApp Messenger</td>\n",
       "      <td>Communication</td>\n",
       "      <td>User #17984</td>\n",
       "      <td>22.5</td>\n",
       "      <td>2</td>\n",
       "    </tr>\n",
       "  </tbody>\n",
       "</table>\n",
       "<p>5 rows × 21 columns</p>\n",
       "</div>"
      ],
      "text/plain": [
       "   endTimeMillis                             MobileDNA           model  \\\n",
       "0   1.580733e+12  a4e7d00a-7e96-47b6-a865-dc32f3ebc533  moto g(8) plus   \n",
       "1   1.580735e+12  a4e7d00a-7e96-47b6-a865-dc32f3ebc533  moto g(8) plus   \n",
       "2   1.580735e+12  a4e7d00a-7e96-47b6-a865-dc32f3ebc533  moto g(8) plus   \n",
       "3   1.580736e+12  a4e7d00a-7e96-47b6-a865-dc32f3ebc533  moto g(8) plus   \n",
       "4   1.580736e+12  a4e7d00a-7e96-47b6-a865-dc32f3ebc533  moto g(8) plus   \n",
       "\n",
       "        session  startTimeMillis                startTime  \\\n",
       "0  1.580733e+09     1.580733e+12  2020-02-03T13:26:36.106   \n",
       "1  1.580733e+09     1.580735e+12  2020-02-03T13:56:12.187   \n",
       "2  1.580733e+09     1.580735e+12  2020-02-03T13:56:30.000   \n",
       "3  1.580736e+09     1.580736e+12  2020-02-03T14:20:28.245   \n",
       "4  1.580736e+09     1.580736e+12  2020-02-03T14:24:24.436   \n",
       "\n",
       "                   endTime notification  notificationId        app_id  ...  \\\n",
       "0  2020-02-03T13:26:48.545        False             0.0  com.whatsapp  ...   \n",
       "1  2020-02-03T13:56:29.987         True             1.0  com.whatsapp  ...   \n",
       "2  2020-02-03T13:56:31.461        False             0.0  com.whatsapp  ...   \n",
       "3  2020-02-03T14:20:29.704        False             0.0  com.whatsapp  ...   \n",
       "4  2020-02-03T14:25:01.988         True             1.0  com.whatsapp  ...   \n",
       "\n",
       "    latitude  longitude  studyKey        surveyId data_version  \\\n",
       "0  51.563100   5.044949   MYPHONE  09071997qujaje          1.6   \n",
       "1  51.563100   5.044949   MYPHONE  09071997qujaje          1.6   \n",
       "2  51.563100   5.044949   MYPHONE  09071997qujaje          1.6   \n",
       "3  51.562456   5.048277   MYPHONE  09071997qujaje          1.6   \n",
       "4  51.562456   5.048277   MYPHONE  09071997qujaje          1.6   \n",
       "\n",
       "             App Name       category     EthicaID   age  sex  \n",
       "0  WhatsApp Messenger  Communication  User #17984  22.5    2  \n",
       "1  WhatsApp Messenger  Communication  User #17984  22.5    2  \n",
       "2  WhatsApp Messenger  Communication  User #17984  22.5    2  \n",
       "3  WhatsApp Messenger  Communication  User #17984  22.5    2  \n",
       "4  WhatsApp Messenger  Communication  User #17984  22.5    2  \n",
       "\n",
       "[5 rows x 21 columns]"
      ]
     },
     "execution_count": 16,
     "metadata": {},
     "output_type": "execute_result"
    }
   ],
   "source": [
    "df.head()"
   ]
  },
  {
   "cell_type": "code",
   "execution_count": 17,
   "id": "56196465",
   "metadata": {},
   "outputs": [
    {
     "data": {
      "text/plain": [
       "Index(['endTimeMillis', 'MobileDNA', 'model', 'session', 'startTimeMillis',\n",
       "       'startTime', 'endTime', 'notification', 'notificationId', 'app_id',\n",
       "       'battery', 'latitude', 'longitude', 'studyKey', 'surveyId',\n",
       "       'data_version', 'App Name', 'category', 'EthicaID', 'age', 'sex'],\n",
       "      dtype='object')"
      ]
     },
     "execution_count": 17,
     "metadata": {},
     "output_type": "execute_result"
    }
   ],
   "source": [
    "df.columns"
   ]
  },
  {
   "cell_type": "markdown",
   "id": "e8195f57",
   "metadata": {},
   "source": [
    "# Data Cleaning"
   ]
  },
  {
   "cell_type": "code",
   "execution_count": 18,
   "id": "4d482238",
   "metadata": {},
   "outputs": [
    {
     "name": "stdout",
     "output_type": "stream",
     "text": [
      "107122 duplicate records were dropped\n"
     ]
    },
    {
     "data": {
      "text/plain": [
       "endTimeMillis          0\n",
       "MobileDNA              0\n",
       "model                  0\n",
       "session                0\n",
       "startTimeMillis        0\n",
       "startTime              0\n",
       "endTime                0\n",
       "notification           0\n",
       "notificationId         0\n",
       "app_id                 0\n",
       "battery                0\n",
       "latitude               0\n",
       "longitude              0\n",
       "studyKey               0\n",
       "surveyId               0\n",
       "data_version           0\n",
       "App Name               0\n",
       "category               0\n",
       "EthicaID               0\n",
       "age                52606\n",
       "sex                    0\n",
       "dtype: int64"
      ]
     },
     "execution_count": 18,
     "metadata": {},
     "output_type": "execute_result"
    }
   ],
   "source": [
    "#drop duplicates\n",
    "before = len(df)\n",
    "df = df.drop_duplicates()\n",
    "after = len(df)\n",
    "print(before - after, 'duplicate records were dropped')\n",
    "\n",
    "#search for missing values\n",
    "df.isna().sum() #age has missing value, will be imputed later \n",
    "\n",
    "#check the datatypes of all columns "
   ]
  },
  {
   "cell_type": "code",
   "execution_count": 20,
   "id": "2e4ec403",
   "metadata": {},
   "outputs": [],
   "source": [
    "#make location values which are not useful missing\n",
    "df['latitude'] = df['latitude'].replace(0 ,np.NaN)\n",
    "df['longitude'] = df['longitude'].replace(0 ,np.NaN)\n",
    "df.isna().sum()"
   ]
  },
  {
   "cell_type": "code",
   "execution_count": 22,
   "id": "83db112f",
   "metadata": {
    "scrolled": true
   },
   "outputs": [
    {
     "data": {
      "text/plain": [
       "186"
      ]
     },
     "execution_count": 22,
     "metadata": {},
     "output_type": "execute_result"
    }
   ],
   "source": [
    "#drop users with less than 5000 recorded events \n",
    "count = df.groupby('EthicaID')['App Name'].count().reset_index()\n",
    "users = count.loc[count['App Name'] < 5000]['EthicaID']\n",
    "for i in users: \n",
    "    df = df[~df.EthicaID.str.contains(i)]\n",
    "len(df['EthicaID'].unique()) #186 users left "
   ]
  },
  {
   "cell_type": "code",
   "execution_count": 23,
   "id": "dc5aa2bc",
   "metadata": {},
   "outputs": [],
   "source": [
    "df.to_csv('cleaned_data/full_cleaned_data.csv')"
   ]
  }
 ],
 "metadata": {
  "kernelspec": {
   "display_name": "Python 3 (ipykernel)",
   "language": "python",
   "name": "python3"
  },
  "language_info": {
   "codemirror_mode": {
    "name": "ipython",
    "version": 3
   },
   "file_extension": ".py",
   "mimetype": "text/x-python",
   "name": "python",
   "nbconvert_exporter": "python",
   "pygments_lexer": "ipython3",
   "version": "3.8.10"
  }
 },
 "nbformat": 4,
 "nbformat_minor": 5
}
