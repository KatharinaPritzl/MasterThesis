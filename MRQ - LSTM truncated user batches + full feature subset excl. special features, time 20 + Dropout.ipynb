{
 "cells": [
  {
   "cell_type": "code",
   "execution_count": 1,
   "id": "552a1628",
   "metadata": {},
   "outputs": [
    {
     "name": "stderr",
     "output_type": "stream",
     "text": [
      "2022-05-14 12:25:28.681997: W tensorflow/stream_executor/platform/default/dso_loader.cc:64] Could not load dynamic library 'libcudart.so.11.0'; dlerror: libcudart.so.11.0: cannot open shared object file: No such file or directory\n",
      "2022-05-14 12:25:28.682068: I tensorflow/stream_executor/cuda/cudart_stub.cc:29] Ignore above cudart dlerror if you do not have a GPU set up on your machine.\n"
     ]
    }
   ],
   "source": [
    "import pandas as pd\n",
    "from sklearn.preprocessing import MultiLabelBinarizer\n",
    "from sklearn.preprocessing import LabelEncoder, OneHotEncoder, StandardScaler\n",
    "import tensorflow as tf\n",
    "from tensorflow import keras\n",
    "from tensorflow.keras import layers\n",
    "from keras.callbacks import EarlyStopping\n",
    "from keras.layers import Dense, Input, Embedding, Reshape, Concatenate, Dropout\n",
    "from keras.callbacks import EarlyStopping\n",
    "from keras.layers import Input, Embedding, LSTM, Dense, Dropout, Concatenate\n",
    "from keras.models import Model\n",
    "import keras\n",
    "import gc \n",
    "import psutil\n",
    "from numpy.random import shuffle as sf"
   ]
  },
  {
   "cell_type": "code",
   "execution_count": 2,
   "id": "d4017cfa",
   "metadata": {},
   "outputs": [
    {
     "name": "stderr",
     "output_type": "stream",
     "text": [
      "2022-05-14 12:25:30.598602: I tensorflow/core/platform/cpu_feature_guard.cc:151] This TensorFlow binary is optimized with oneAPI Deep Neural Network Library (oneDNN) to use the following CPU instructions in performance-critical operations:  AVX2 FMA\n",
      "To enable them in other operations, rebuild TensorFlow with the appropriate compiler flags.\n",
      "2022-05-14 12:25:30.599199: W tensorflow/stream_executor/platform/default/dso_loader.cc:64] Could not load dynamic library 'libcuda.so.1'; dlerror: libcuda.so.1: cannot open shared object file: No such file or directory\n",
      "2022-05-14 12:25:30.599235: W tensorflow/stream_executor/cuda/cuda_driver.cc:269] failed call to cuInit: UNKNOWN ERROR (303)\n",
      "2022-05-14 12:25:30.599263: I tensorflow/stream_executor/cuda/cuda_diagnostics.cc:156] kernel driver does not appear to be running on this host (jupyter): /proc/driver/nvidia/version does not exist\n"
     ]
    },
    {
     "name": "stdout",
     "output_type": "stream",
     "text": [
      "WARNING:tensorflow:From /tmp/ipykernel_2451675/655029567.py:19: The name tf.keras.backend.set_session is deprecated. Please use tf.compat.v1.keras.backend.set_session instead.\n",
      "\n"
     ]
    }
   ],
   "source": [
    "seed_value= 10\n",
    "\n",
    "import os\n",
    "os.environ['PYTHONHASHSEED']=str(seed_value)\n",
    "\n",
    "import random\n",
    "random.seed(seed_value)\n",
    "\n",
    "import numpy as np\n",
    "np.random.seed(seed_value)\n",
    "\n",
    "import tensorflow as tf\n",
    "tf.random.set_seed(seed_value)# for later versions: \n",
    "# tf.compat.v1.set_random_seed(seed_value)\n",
    "\n",
    "from keras import backend as K\n",
    "session_conf = tf.compat.v1.ConfigProto(intra_op_parallelism_threads=1, inter_op_parallelism_threads=1)\n",
    "sess = tf.compat.v1.Session(graph=tf.compat.v1.get_default_graph(), config=session_conf)\n",
    "tf.compat.v1.keras.backend.set_session(sess)"
   ]
  },
  {
   "cell_type": "code",
   "execution_count": 3,
   "id": "94591b6a",
   "metadata": {
    "scrolled": true
   },
   "outputs": [
    {
     "name": "stdout",
     "output_type": "stream",
     "text": [
      "MemTotal:       263916452 kB\r\n",
      "MemFree:        208124572 kB\r\n",
      "MemAvailable:   211201720 kB\r\n"
     ]
    }
   ],
   "source": [
    "!cat /proc/meminfo | grep Mem"
   ]
  },
  {
   "cell_type": "code",
   "execution_count": 4,
   "id": "84492537",
   "metadata": {},
   "outputs": [],
   "source": [
    "#make the prediction task a supervised problem by creating sequences\n",
    "def splitSequence(seq, n_steps):\n",
    "    X = []\n",
    "    y = []\n",
    "    for i in range(len(seq)):\n",
    "        lastIndex = i + n_steps\n",
    "        if lastIndex > len(seq) - 1:\n",
    "            break\n",
    "        seq_X, seq_y = seq[i:lastIndex], seq[lastIndex, -1]\n",
    "        X.append(seq_X)\n",
    "        y.append(seq_y)        \n",
    "    X = np.array(X)\n",
    "    y = np.array(y)\n",
    "    return X, y.reshape((len(y), 1))\n",
    "\n",
    "#split the data into different the users so that we can create on sequence per user but put them again together\n",
    "def split_df(df, df_batch_size, step_size):\n",
    "    j = 0\n",
    "    y_lst = []\n",
    "    X_lst = []\n",
    "    for i in df_batch_size: \n",
    "        X_seq, y_seq = splitSequence(df.values[j:(i+j)], step_size)\n",
    "        j += i\n",
    "        y_seq = y_seq[:X_seq.shape[0], :]\n",
    "        y_lst.append(y_seq)\n",
    "        X_lst.append(X_seq)\n",
    "    return X_lst, y_lst\n",
    "\n",
    "#creates dummy variable for target\n",
    "def prepare_targets(y_train, y_valid, y_test):\n",
    "    le=MultiLabelBinarizer()\n",
    "    le.fit(y_train)\n",
    "    y_train_enc = le.transform(y_train)\n",
    "    y_valid_enc = le.transform(y_valid)\n",
    "    y_test_enc = le.transform(y_test)\n",
    "    return y_train_enc, y_valid_enc, y_test_enc\n",
    "\n",
    "#encode categorical features into numbers \n",
    "def encoding_features (X, step_size, unique):\n",
    "    encoders = {}  \n",
    "    for i in range(X.shape[2]): \n",
    "        le = LabelEncoder()\n",
    "        le.fit(unique[i].astype(str))# use dataframe here\n",
    "        encoders[i] = le\n",
    "        enc = le.transform(X[:, :, i].flatten())\n",
    "        if i == 0: \n",
    "            beg = enc.reshape((X[:, :, i].shape[0], step_size, 1))\n",
    "        else: \n",
    "            beg = np.concatenate([beg, enc.reshape((X[:, :, i].shape[0], step_size, 1))], axis = 2)\n",
    "    return beg, encoders \n",
    "\n",
    "#transfroms categorical features in such a way that they can be handeled by the embeddings layer impöementation \n",
    "def emd_input(X):\n",
    "    X_array = []  \n",
    "    for i in range(X.shape[2]):  \n",
    "        if i == X.shape[2]: \n",
    "            X_array.append(X[:, :, i+1:i+2])\n",
    "        else: \n",
    "            X_array.append(X[:, :, i:i+1])\n",
    "    return X_array\n",
    "\n",
    "#shuffle dataset\n",
    "def shuffle_list(*ls):\n",
    "    l =list(zip(*ls))\n",
    "    sf(l)\n",
    "    return zip(*l)"
   ]
  },
  {
   "cell_type": "code",
   "execution_count": 5,
   "id": "488902eb",
   "metadata": {},
   "outputs": [],
   "source": [
    "#load data\n",
    "train = pd.read_csv('cleaned_data/model_training_MQ&RQ1/training_data_each_user_batch256_steps20.csv')\n",
    "train = train.drop(train.columns[0], axis = 1)\n",
    "\n",
    "valid = pd.read_csv('cleaned_data/model_training_MQ&RQ1/validation_data_each_user_batch256_steps20.csv')\n",
    "valid = valid.drop(valid.columns[0], axis = 1)\n",
    "\n",
    "test = pd.read_csv('cleaned_data/model_training_MQ&RQ1/testing_data_each_user_batch256_steps20.csv')\n",
    "test = test.drop(test.columns[0], axis = 1)\n",
    "\n",
    "batches =  pd.read_csv('cleaned_data/model_training_MQ&RQ1/batch_size_each_user_batch256_steps20.csv')\n",
    "batches = batches.drop(batches.columns[0], axis = 1)"
   ]
  },
  {
   "cell_type": "code",
   "execution_count": 6,
   "id": "5be40364",
   "metadata": {},
   "outputs": [],
   "source": [
    "#select feature subset\n",
    "train = train[['EthicaID', 'use_duration', 'duration_ongoing_session', 'time_to_next_app',\n",
    "               'notification', 'battery','hours', 'weekday', 'category', 'age_category', 'sex',\n",
    "               'location_cluster', 'geohash', 'target']]\n",
    "test = test[['EthicaID', 'use_duration', 'duration_ongoing_session', 'time_to_next_app',\n",
    "               'notification', 'battery','hours', 'weekday', 'category', 'age_category', 'sex',\n",
    "               'location_cluster', 'geohash', 'target']]\n",
    "valid = valid[['EthicaID', 'use_duration', 'duration_ongoing_session', 'time_to_next_app',\n",
    "               'notification', 'battery','hours', 'weekday', 'category', 'age_category', 'sex',\n",
    "               'location_cluster', 'geohash', 'target']]"
   ]
  },
  {
   "cell_type": "code",
   "execution_count": 7,
   "id": "9b52e488",
   "metadata": {},
   "outputs": [],
   "source": [
    "full = pd.concat([train, test, valid], axis = 0)\n",
    "full_cat = full[['notification', 'battery','hours', 'weekday', 'category', 'age_category', 'sex',\n",
    "       'location_cluster', 'geohash', 'target']]"
   ]
  },
  {
   "cell_type": "code",
   "execution_count": 8,
   "id": "da89d38a",
   "metadata": {},
   "outputs": [],
   "source": [
    "unique = []\n",
    "for i in full_cat.columns:\n",
    "    unique.append(np.unique(full_cat[i].astype(str)))\n",
    "del full_cat, full"
   ]
  },
  {
   "cell_type": "code",
   "execution_count": 9,
   "id": "2650eb4b",
   "metadata": {},
   "outputs": [],
   "source": [
    "#define hyperparameters\n",
    "number_num = 3\n",
    "num_cat = 10\n",
    "steps = 20\n",
    "batch_size = 256"
   ]
  },
  {
   "cell_type": "code",
   "execution_count": 10,
   "id": "338a9b13",
   "metadata": {},
   "outputs": [],
   "source": [
    "#make sequential split of the datasets\n",
    "X_train_seq, y_train_seq = split_df(train, batches['train'], steps)\n",
    "X_valid_seq, y_valid_seq = split_df(valid, batches['validation'], steps)\n",
    "X_test_seq, y_test_seq = split_df(test, batches['testing'], steps)\n",
    "del train, valid, test"
   ]
  },
  {
   "cell_type": "code",
   "execution_count": 11,
   "id": "0207430f",
   "metadata": {},
   "outputs": [],
   "source": [
    "#seperate categorical and numerical features and stack them\n",
    "X_train_full_seq = np.vstack(X_train_seq)\n",
    "y_train_full_seq =np.vstack(y_train_seq)\n",
    "X_train_seq_cat = X_train_full_seq[:, :, number_num+1:].astype(str)\n",
    "X_train_seq_num = X_train_full_seq[:, :, :number_num+1]#.astype(float)\n",
    "del X_train_seq, y_train_seq, X_train_full_seq\n",
    "\n",
    "X_valid_full_seq = np.vstack(X_valid_seq)\n",
    "y_valid_full_seq =np.vstack(y_valid_seq)\n",
    "X_valid_seq_cat = X_valid_full_seq[:, :, number_num+1:].astype(str)\n",
    "X_valid_seq_num = X_valid_full_seq[:, :, :number_num+1]#.astype(float)\n",
    "del X_valid_seq, y_valid_seq, X_valid_full_seq\n",
    "\n",
    "X_test_full_seq = np.vstack(X_test_seq)\n",
    "y_test_full_seq =np.vstack(y_test_seq)\n",
    "X_test_seq_cat = X_test_full_seq[:, :, number_num+1:].astype(str)\n",
    "X_test_seq_num = X_test_full_seq[:, :, :number_num+1]#.astype(float)\n",
    "del X_test_seq, y_test_seq, X_test_full_seq"
   ]
  },
  {
   "cell_type": "code",
   "execution_count": 12,
   "id": "224891d2",
   "metadata": {},
   "outputs": [],
   "source": [
    "#encode taregts\n",
    "y_train_enc, y_valid_enc, y_test_enc =  prepare_targets(y_train_full_seq, y_valid_full_seq, y_test_full_seq)\n",
    "del y_train_full_seq, y_valid_full_seq, y_test_full_seq"
   ]
  },
  {
   "cell_type": "code",
   "execution_count": 13,
   "id": "a6b99d4e",
   "metadata": {},
   "outputs": [],
   "source": [
    "#split training sets in batches to allow for shuffeling\n",
    "X_train_seq_cat_split = np.split(X_train_seq_cat, X_train_seq_cat.shape[0]/batch_size)\n",
    "X_train_seq_num_split = np.split(X_train_seq_num, X_train_seq_num.shape[0]/batch_size)\n",
    "y_train_enc_split = np.split(y_train_enc, X_train_seq_num.shape[0]/batch_size)\n",
    "del X_train_seq_cat, X_train_seq_num, y_train_enc"
   ]
  },
  {
   "cell_type": "code",
   "execution_count": 15,
   "id": "19b92c33",
   "metadata": {},
   "outputs": [],
   "source": [
    "#shuffle training set and stack it again together\n",
    "X_train_seq_cat_shuffled, X_train_seq_num_shuffled, y_train_enc_shuffled = shuffle_list(X_train_seq_cat_split, X_train_seq_num_split, y_train_enc_split)\n",
    "del X_train_seq_cat_split, X_train_seq_num_split, y_train_enc_split\n",
    "X_train_seq_cat_shuffled = np.vstack(X_train_seq_cat_shuffled)\n",
    "X_train_seq_num_shuffled = np.vstack(X_train_seq_num_shuffled)\n",
    "y_train_enc_shuffled = np.vstack(y_train_enc_shuffled)"
   ]
  },
  {
   "cell_type": "code",
   "execution_count": 16,
   "id": "054026d8",
   "metadata": {},
   "outputs": [],
   "source": [
    "#encode categorical features to allow for treatment by an embeddings layer\n",
    "X_train_enc_shuffled, encoders_train = encoding_features (X_train_seq_cat_shuffled, steps, unique)\n",
    "X_valid_enc, encoders_valid = encoding_features (X_valid_seq_cat, steps, unique)\n",
    "X_test_enc, encoders_test = encoding_features (X_test_seq_cat, steps, unique)\n",
    "del X_train_seq_cat_shuffled"
   ]
  },
  {
   "cell_type": "code",
   "execution_count": 17,
   "id": "bc75f7a8",
   "metadata": {},
   "outputs": [
    {
     "data": {
      "text/plain": [
       "[(0, 2),\n",
       " (1, 101),\n",
       " (2, 24),\n",
       " (3, 7),\n",
       " (4, 32),\n",
       " (5, 4),\n",
       " (6, 2),\n",
       " (7, 8),\n",
       " (8, 1963),\n",
       " (9, 3)]"
      ]
     },
     "execution_count": 17,
     "metadata": {},
     "output_type": "execute_result"
    }
   ],
   "source": [
    "#calculate embedinggs size\n",
    "cat_sizes = [(i, len(u)) for i, u in zip(range(len(unique)), unique)]  \n",
    "embedding_sizes = [(c+1, min(50, (c + 1) // 2)) for _, c in cat_sizes]  "
   ]
  },
  {
   "cell_type": "code",
   "execution_count": 19,
   "id": "9017f713",
   "metadata": {},
   "outputs": [],
   "source": [
    "#prepare structure of categorical features for embedinggs layer\n",
    "X_train_cat_shuffled = emd_input(X_train_enc_shuffled)\n",
    "X_valid_cat= emd_input(X_valid_enc)\n",
    "X_test_cat = emd_input(X_test_enc)"
   ]
  },
  {
   "cell_type": "code",
   "execution_count": 20,
   "id": "e47671f5",
   "metadata": {},
   "outputs": [],
   "source": [
    "#define complete model structure \n",
    "def fit_model(neurons):\n",
    "    cat_input = []\n",
    "    embed_layers = []\n",
    "    for (c, (in_size, out_size)) in zip(range(num_cat), embedding_sizes):\n",
    "        i = Input(shape=(steps, 1) ) \n",
    "        o = Embedding(in_size, out_size, name=str(c))(i)\n",
    "        #o = Dropout(0.04)(o)\n",
    "        o = Reshape(target_shape=(steps, out_size))(o)\n",
    "        cat_input.append(i)\n",
    "        embed_layers.append(o)\n",
    "    embed = Concatenate()(embed_layers)\n",
    "    numerical_input = Input(shape=(steps, number_num), name = 'numerical_input')\n",
    "    new = Concatenate()([embed, numerical_input])\n",
    "\n",
    "    y=LSTM(neurons, activation='sigmoid')(new)\n",
    "    d = Dropout(0.2)(y)\n",
    "\n",
    "    main_output = Dense(3, activation='softmax', name='main_output')(d)\n",
    "    model = Model(inputs=[cat_input, numerical_input], outputs=main_output)\n",
    "\n",
    "    model.compile(optimizer='adam', loss='categorical_crossentropy', metrics=['accuracy'])\n",
    "    return model"
   ]
  },
  {
   "cell_type": "code",
   "execution_count": 21,
   "id": "9d18e9e2",
   "metadata": {},
   "outputs": [],
   "source": [
    "es = EarlyStopping(monitor='val_accuracy', mode='max', verbose=1, patience = 5, restore_best_weights=True)"
   ]
  },
  {
   "cell_type": "code",
   "execution_count": 22,
   "id": "20035dc6",
   "metadata": {},
   "outputs": [],
   "source": [
    "import matplotlib.pyplot as plt"
   ]
  },
  {
   "cell_type": "code",
   "execution_count": 23,
   "id": "6a080322",
   "metadata": {
    "scrolled": true
   },
   "outputs": [
    {
     "name": "stdout",
     "output_type": "stream",
     "text": [
      "Epoch 1/50\n",
      "13903/13903 [==============================] - 2898s 208ms/step - loss: 1.0678 - accuracy: 0.4135 - val_loss: 1.0630 - val_accuracy: 0.4228\n",
      "Epoch 2/50\n",
      "13903/13903 [==============================] - 2887s 208ms/step - loss: 1.0615 - accuracy: 0.4217 - val_loss: 1.0605 - val_accuracy: 0.4251\n",
      "Epoch 3/50\n",
      "13903/13903 [==============================] - 2883s 207ms/step - loss: 1.0589 - accuracy: 0.4248 - val_loss: 1.0586 - val_accuracy: 0.4263\n",
      "Epoch 4/50\n",
      "13903/13903 [==============================] - 2885s 208ms/step - loss: 1.0570 - accuracy: 0.4272 - val_loss: 1.0580 - val_accuracy: 0.4287\n",
      "Epoch 5/50\n",
      "13903/13903 [==============================] - 2898s 208ms/step - loss: 1.0554 - accuracy: 0.4294 - val_loss: 1.0585 - val_accuracy: 0.4262\n",
      "Epoch 6/50\n",
      "13903/13903 [==============================] - 2896s 208ms/step - loss: 1.0540 - accuracy: 0.4309 - val_loss: 1.0576 - val_accuracy: 0.4289\n",
      "Epoch 7/50\n",
      "13903/13903 [==============================] - 2900s 209ms/step - loss: 1.0527 - accuracy: 0.4325 - val_loss: 1.0578 - val_accuracy: 0.4288\n",
      "Epoch 8/50\n",
      "13903/13903 [==============================] - 2905s 209ms/step - loss: 1.0514 - accuracy: 0.4337 - val_loss: 1.0571 - val_accuracy: 0.4296\n",
      "Epoch 9/50\n",
      "13903/13903 [==============================] - 2912s 209ms/step - loss: 1.0501 - accuracy: 0.4353 - val_loss: 1.0574 - val_accuracy: 0.4292\n",
      "Epoch 10/50\n",
      "13903/13903 [==============================] - 2914s 210ms/step - loss: 1.0488 - accuracy: 0.4364 - val_loss: 1.0581 - val_accuracy: 0.4288\n",
      "Epoch 11/50\n",
      "13903/13903 [==============================] - 3038s 219ms/step - loss: 1.0475 - accuracy: 0.4379 - val_loss: 1.0585 - val_accuracy: 0.4290\n",
      "Epoch 12/50\n",
      "13903/13903 [==============================] - 2931s 211ms/step - loss: 1.0461 - accuracy: 0.4391 - val_loss: 1.0591 - val_accuracy: 0.4276\n",
      "Epoch 13/50\n",
      "13903/13903 [==============================] - ETA: 0s - loss: 1.0448 - accuracy: 0.4404Restoring model weights from the end of the best epoch: 8.\n",
      "13903/13903 [==============================] - 2946s 212ms/step - loss: 1.0448 - accuracy: 0.4404 - val_loss: 1.0594 - val_accuracy: 0.4273\n",
      "Epoch 13: early stopping\n",
      "14032/14032 [==============================] - 243s 17ms/step - loss: 1.0571 - accuracy: 0.4296\n",
      "Duration: 10:36:00.374337\n"
     ]
    },
    {
     "data": {
      "image/png": "[encoded data removed]",
      "text/plain": [
       "<Figure size 720x432 with 1 Axes>"
      ]
     },
     "metadata": {
      "needs_background": "light"
     },
     "output_type": "display_data"
    }
   ],
   "source": [
    "#hyperparemeter opzimization loop\n",
    "from datetime import datetime\n",
    "start_time = datetime.now()\n",
    "for num_neurons in [256]: \n",
    "    for batch_size in [256]:\n",
    "        model = fit_model(num_neurons)\n",
    "        history = model.fit([X_train_cat_shuffled, X_train_seq_num_shuffled[:, :, 1:].astype(float)], y_train_enc_shuffled, epochs=50, \n",
    "                  batch_size = batch_size, \n",
    "                  callbacks  = [es], validation_data=([X_valid_cat, X_valid_seq_num[:, :, 1:].astype(float)],\n",
    "                                                       y_valid_enc))\n",
    "        _, accuracy = model.evaluate([X_valid_cat, X_valid_seq_num[:, :, 1:].astype(float)], y_valid_enc, verbose=1)\n",
    "        with open('model/MRQ_full_feature_subset_excl_special_features+Dropout/MRQ_full_feature_subset_excl_special_features+Dropout.txt', 'a') as fp:\n",
    "            fp.writelines(['Time steps: ' + str(steps) + '\\n'+ 'Number of Neurons: ' + str(num_neurons) +\n",
    "                           '\\n', 'Batch Size: ' + str(batch_size) + '\\n', 'seed10\\n',\n",
    "                           'Accuracy: ' + str(accuracy) + '\\n\\n'])\n",
    "        model.save('model/MRQ_full_feature_subset_excl_special_features+Dropout/model_neurons_'+ str(num_neurons) + 'batch_size' + str(batch_size)\n",
    "                   + 'time_step' + str(steps) + 'seed10.h5')\n",
    "        plt.figure(figsize = (10, 6))\n",
    "        plt.plot(history.history['accuracy'], color = 'dodgerblue')\n",
    "        plt.plot(history.history['val_accuracy'], color = 'rebeccapurple')\n",
    "        plt.title('model accuracy')\n",
    "        plt.ylabel('accuracy')\n",
    "        plt.xlabel('epoch')\n",
    "        plt.xticks(range(0, len(history.history['accuracy'])+1, 2))\n",
    "        plt.legend(['train', 'valid'], loc='upper left')\n",
    "        plt.savefig('model/MRQ_full_feature_subset_excl_special_features+Dropout/model_neurons_'+ str(num_neurons) + 'batch_size' + str(batch_size)\n",
    "                       + 'time_step' + str(steps) + 'seed10.png')\n",
    "end_time = datetime.now()\n",
    "print('Duration: {}'.format(end_time - start_time))"
   ]
  },
  {
   "cell_type": "code",
   "execution_count": 24,
   "id": "76eecd70",
   "metadata": {},
   "outputs": [
    {
     "name": "stdout",
     "output_type": "stream",
     "text": [
      "11800/11800 [==============================] - 191s 16ms/step - loss: 1.0602 - accuracy: 0.4257\n",
      "0.4256964921951294\n",
      "14032/14032 [==============================] - 227s 16ms/step - loss: 1.0571 - accuracy: 0.4296\n",
      "0.42964741587638855\n",
      "111224/111224 [==============================] - 1915s 17ms/step - loss: 1.0475 - accuracy: 0.4379\n",
      "0.4378964304924011\n"
     ]
    }
   ],
   "source": [
    "#insert best hyperparameters for calculating final performance\n",
    "model = keras.models.load_model('model/MRQ_full_feature_subset_excl_special_features+Dropout/model_neurons_256batch_size256time_step20seed10.h5')\n",
    "_, accuracy_test = model.evaluate([X_test_cat, X_test_seq_num[:, :, 1:].astype(float)], y_test_enc, verbose=1)\n",
    "print(accuracy_test)\n",
    "\n",
    "_, accuracy_valid = model.evaluate([X_valid_cat, X_valid_seq_num[:, :, 1:].astype(float)], y_valid_enc, verbose=1)\n",
    "print(accuracy_valid)\n",
    "\n",
    "_, accuracy_train = model.evaluate([X_train_cat_shuffled, X_train_seq_num_shuffled[:, :, 1:].astype(float)], y_train_enc_shuffled, verbose=1)\n",
    "print(accuracy_train)\n",
    "\n",
    "with open('model/MRQ_full_feature_subset_excl_special_features+Dropout/MRQ_full_feature_subset_excl_special_features+Dropout.txt', 'a') as fp:\n",
    "    fp.writelines(['Best model accuracy on test set: ' + str(accuracy_test) + '\\n\\n', \n",
    "                   'Best model accuracy on valid set: ' + str(accuracy_valid) + '\\n\\n', \n",
    "                   'Best model accuracy on train set: ' + str(accuracy_train) + '\\n\\n'])"
   ]
  },
  {
   "cell_type": "code",
   "execution_count": 25,
   "id": "ba52cae2",
   "metadata": {},
   "outputs": [],
   "source": [
    "#write training time to file\n",
    "with open('model/MRQ_full_feature_subset_excl_special_features+Dropout/MRQ_full_feature_subset_excl_special_features+Dropout.txt', 'a') as fp:\n",
    "    fp.writelines(['Time needed for training:', str(end_time - start_time)])"
   ]
  }
 ],
 "metadata": {
  "kernelspec": {
   "display_name": "Python 3 (ipykernel)",
   "language": "python",
   "name": "python3"
  },
  "language_info": {
   "codemirror_mode": {
    "name": "ipython",
    "version": 3
   },
   "file_extension": ".py",
   "mimetype": "text/x-python",
   "name": "python",
   "nbconvert_exporter": "python",
   "pygments_lexer": "ipython3",
   "version": "3.8.10"
  }
 },
 "nbformat": 4,
 "nbformat_minor": 5
}
