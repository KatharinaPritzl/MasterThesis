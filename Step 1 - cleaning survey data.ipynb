{
 "cells": [
  {
   "cell_type": "code",
   "execution_count": 1,
   "id": "41e2ef2f",
   "metadata": {},
   "outputs": [],
   "source": [
    "import pandas as pd\n",
    "import numpy as np"
   ]
  },
  {
   "cell_type": "code",
   "execution_count": 2,
   "id": "49861404",
   "metadata": {},
   "outputs": [],
   "source": [
    "#load data\n",
    "df_survey = pd.read_csv('Data for thesis students/data.csv')\n",
    "df_survey = df_survey.drop(df_survey.columns[0], axis = 1)"
   ]
  },
  {
   "cell_type": "code",
   "execution_count": 3,
   "id": "3771e9d9",
   "metadata": {},
   "outputs": [],
   "source": [
    "#df_survey.head()"
   ]
  },
  {
   "cell_type": "code",
   "execution_count": 4,
   "id": "5b85616c",
   "metadata": {},
   "outputs": [],
   "source": [
    "#only keep relevant columns\n",
    "df_demographics = df_survey[['EthicaID', 'Age', 'Sex']] "
   ]
  },
  {
   "cell_type": "code",
   "execution_count": 5,
   "id": "20b5f056",
   "metadata": {},
   "outputs": [],
   "source": [
    "#only keep one row of information for each participant\n",
    "df_demographics = df_demographics.drop_duplicates(subset = ['EthicaID']) "
   ]
  },
  {
   "cell_type": "code",
   "execution_count": 2,
   "id": "4b06c90b",
   "metadata": {},
   "outputs": [],
   "source": [
    "#df_demographics.head()"
   ]
  },
  {
   "cell_type": "code",
   "execution_count": 6,
   "id": "96430f14",
   "metadata": {},
   "outputs": [],
   "source": [
    "#check for missing values\n",
    "#print(df_demographics.isna().sum()) #no missing values\n",
    "\n",
    "#print (sorted(df_demographics['Age'].unique())) #one illegal value -0.4166667\n",
    "\n",
    "df_demographics = df_demographics.replace(-0.41666670000000006, np.nan) #make illeagle vlaue to NaN\n",
    "#print(df_demographics.isna().sum()) #check if it is really NaN"
   ]
  },
  {
   "cell_type": "code",
   "execution_count": 3,
   "id": "c0de370f",
   "metadata": {},
   "outputs": [],
   "source": [
    "#df_demographics.head()"
   ]
  },
  {
   "cell_type": "code",
   "execution_count": 10,
   "id": "ff1b8010",
   "metadata": {},
   "outputs": [],
   "source": [
    "#save cleanded dataframe to csv for later use\n",
    "df_demographics.to_csv('cleaned_data/demographics.csv')"
   ]
  }
 ],
 "metadata": {
  "kernelspec": {
   "display_name": "Python 3 (ipykernel)",
   "language": "python",
   "name": "python3"
  },
  "language_info": {
   "codemirror_mode": {
    "name": "ipython",
    "version": 3
   },
   "file_extension": ".py",
   "mimetype": "text/x-python",
   "name": "python",
   "nbconvert_exporter": "python",
   "pygments_lexer": "ipython3",
   "version": "3.8.10"
  }
 },
 "nbformat": 4,
 "nbformat_minor": 5
}
