{
 "cells": [
  {
   "cell_type": "code",
   "execution_count": 108,
   "id": "5c94e235",
   "metadata": {},
   "outputs": [],
   "source": [
    "import tensorflow"
   ]
  },
  {
   "cell_type": "code",
   "execution_count": 109,
   "id": "de79028c",
   "metadata": {},
   "outputs": [],
   "source": [
    "from numpy.random import seed\n",
    "seed(101)\n",
    "import tensorflow\n",
    "tensorflow.random.set_seed(101)"
   ]
  },
  {
   "cell_type": "code",
   "execution_count": 110,
   "id": "767be960",
   "metadata": {},
   "outputs": [],
   "source": [
    "import numpy as np \n",
    "import pandas as pd "
   ]
  },
  {
   "cell_type": "code",
   "execution_count": 111,
   "id": "1c5bd1e0",
   "metadata": {},
   "outputs": [],
   "source": [
    "df = pd.read_csv('cleaned_data/data_with_features.csv')\n",
    "df = df.drop(df.columns[0], axis = 1)"
   ]
  },
  {
   "cell_type": "code",
   "execution_count": 112,
   "id": "4f08a531",
   "metadata": {},
   "outputs": [],
   "source": [
    "steps = 20\n",
    "batch_size = 256"
   ]
  },
  {
   "cell_type": "code",
   "execution_count": 113,
   "id": "355076ee",
   "metadata": {},
   "outputs": [],
   "source": [
    "user_length = df['EthicaID'].value_counts().reset_index().rename({'EthicaID':'count', 'index': 'EthicaID'}, axis = 1)\n",
    "train_length = ((np.array(user_length['count'])//1.25) + (batch_size-(np.array(user_length['count'])//1.25)%batch_size)) + steps\n",
    "rest = np.array(user_length['count']) - train_length\n",
    "valid_length = (rest//2 - steps) + (batch_size-(((rest//2-steps)%batch_size))) + steps\n",
    "\n",
    "rest_2 = np.array(user_length['count']) -  train_length - valid_length\n",
    "test_length = (rest_2- steps - (rest_2 - steps)%batch_size) + steps"
   ]
  },
  {
   "cell_type": "code",
   "execution_count": 114,
   "id": "a2ed3b26",
   "metadata": {},
   "outputs": [
    {
     "data": {
      "text/html": [
       "<div>\n",
       "<style scoped>\n",
       "    .dataframe tbody tr th:only-of-type {\n",
       "        vertical-align: middle;\n",
       "    }\n",
       "\n",
       "    .dataframe tbody tr th {\n",
       "        vertical-align: top;\n",
       "    }\n",
       "\n",
       "    .dataframe thead th {\n",
       "        text-align: right;\n",
       "    }\n",
       "</style>\n",
       "<table border=\"1\" class=\"dataframe\">\n",
       "  <thead>\n",
       "    <tr style=\"text-align: right;\">\n",
       "      <th></th>\n",
       "      <th>EthicaID</th>\n",
       "      <th>count</th>\n",
       "    </tr>\n",
       "  </thead>\n",
       "  <tbody>\n",
       "    <tr>\n",
       "      <th>0</th>\n",
       "      <td>User #15208</td>\n",
       "      <td>88895</td>\n",
       "    </tr>\n",
       "    <tr>\n",
       "      <th>1</th>\n",
       "      <td>User #23875</td>\n",
       "      <td>80499</td>\n",
       "    </tr>\n",
       "    <tr>\n",
       "      <th>2</th>\n",
       "      <td>User #25522</td>\n",
       "      <td>80026</td>\n",
       "    </tr>\n",
       "    <tr>\n",
       "      <th>3</th>\n",
       "      <td>User #15588</td>\n",
       "      <td>69309</td>\n",
       "    </tr>\n",
       "    <tr>\n",
       "      <th>4</th>\n",
       "      <td>User #24346</td>\n",
       "      <td>67255</td>\n",
       "    </tr>\n",
       "    <tr>\n",
       "      <th>...</th>\n",
       "      <td>...</td>\n",
       "      <td>...</td>\n",
       "    </tr>\n",
       "    <tr>\n",
       "      <th>181</th>\n",
       "      <td>User #15273</td>\n",
       "      <td>5678</td>\n",
       "    </tr>\n",
       "    <tr>\n",
       "      <th>182</th>\n",
       "      <td>User #25167</td>\n",
       "      <td>5532</td>\n",
       "    </tr>\n",
       "    <tr>\n",
       "      <th>183</th>\n",
       "      <td>User #25201</td>\n",
       "      <td>5268</td>\n",
       "    </tr>\n",
       "    <tr>\n",
       "      <th>184</th>\n",
       "      <td>User #23979</td>\n",
       "      <td>5110</td>\n",
       "    </tr>\n",
       "    <tr>\n",
       "      <th>185</th>\n",
       "      <td>User #23912</td>\n",
       "      <td>5013</td>\n",
       "    </tr>\n",
       "  </tbody>\n",
       "</table>\n",
       "<p>186 rows × 2 columns</p>\n",
       "</div>"
      ],
      "text/plain": [
       "[186 rows x 2 columns]"
      ]
     },
     "execution_count": 114,
     "metadata": {},
     "output_type": "execute_result"
    }
   ],
   "source": [
    "user_length"
   ]
  },
  {
   "cell_type": "code",
   "execution_count": 100,
   "id": "b1d2d922",
   "metadata": {},
   "outputs": [],
   "source": [
    "from matplotlib import pyplot as plt\n",
    "import seaborn as sns\n",
    "sns.set(rc = {'figure.figsize':(11,7)})\n",
    "sns.set_theme(style='white')"
   ]
  },
  {
   "cell_type": "code",
   "execution_count": 101,
   "id": "fba15c28",
   "metadata": {},
   "outputs": [
    {
     "data": {
      "image/png": "[encoded data removed]",
      "text/plain": [
       "<Figure size 792x504 with 1 Axes>"
      ]
     },
     "metadata": {},
     "output_type": "display_data"
    }
   ],
   "source": [
    "hist = sns.histplot(user_length['count'].rename({'count': 'number of app events'}, axis = 1))\n",
    "hist.set(title='Distibution of the number of app events per user')\n",
    "hist.set_xlabel('Number of app events')\n",
    "hist.figure.savefig(\"Distibution of the number of app records per user.png\")"
   ]
  },
  {
   "cell_type": "code",
   "execution_count": 64,
   "id": "984a5eb6",
   "metadata": {},
   "outputs": [
    {
     "data": {
      "text/plain": [
       "186"
      ]
     },
     "execution_count": 64,
     "metadata": {},
     "output_type": "execute_result"
    }
   ],
   "source": [
    "((np.array(user_length['count'])) - (valid_length + test_length + train_length) >= 0).sum()"
   ]
  },
  {
   "cell_type": "code",
   "execution_count": 65,
   "id": "7a9b40c3",
   "metadata": {},
   "outputs": [
    {
     "data": {
      "text/plain": [
       "22814.0"
      ]
     },
     "execution_count": 65,
     "metadata": {},
     "output_type": "execute_result"
    }
   ],
   "source": [
    "((np.array(user_length['count'])) - (valid_length + test_length + train_length)).sum()"
   ]
  },
  {
   "cell_type": "code",
   "execution_count": 66,
   "id": "351a737f",
   "metadata": {},
   "outputs": [
    {
     "data": {
      "text/plain": [
       "0.005161634220363364"
      ]
     },
     "execution_count": 66,
     "metadata": {},
     "output_type": "execute_result"
    }
   ],
   "source": [
    "((np.array(user_length['count'])) - (valid_length + test_length + train_length)).sum() / np.array(user_length['count']).sum() "
   ]
  },
  {
   "cell_type": "code",
   "execution_count": 67,
   "id": "35edf853",
   "metadata": {},
   "outputs": [],
   "source": [
    "train_batches = []\n",
    "train = df[0:0]\n",
    "\n",
    "for user, length in zip(user_length['EthicaID'], train_length):\n",
    "    length = int(length)\n",
    "    df_single_user = df.loc[df['EthicaID'] == user]\n",
    "    df_train = df_single_user[:length]\n",
    "    train = pd.concat([train.reset_index(drop= True), df_train.reset_index(drop = True)])\n",
    "    train_batches.append(len(df_train))  \n",
    "    \n",
    "valid_batches = []\n",
    "lst_valid = []\n",
    "\n",
    "for user, length_train, length_valid in zip(user_length['EthicaID'], train_length, valid_length):\n",
    "    length_train = int(length_train)\n",
    "    length_valid = int(length_valid)\n",
    "    df_single_user = df.loc[df['EthicaID'] == user]\n",
    "    df_valid = df_single_user[length_train: length_train+length_valid]\n",
    "    lst_valid.append(df_valid)\n",
    "    valid_batches.append(len(df_valid))\n",
    "    \n",
    "valid = pd.concat(lst_valid, axis = 0)\n",
    "del lst_valid\n",
    "\n",
    "test_batches = []\n",
    "lst_test = []\n",
    "\n",
    "for user, length_prev, length_test in zip(user_length['EthicaID'], train_length + valid_length, test_length):\n",
    "    length_prev = int(length_prev)\n",
    "    length_test = int(length_test)\n",
    "    df_single_user = df.loc[df['EthicaID'] == user]\n",
    "    df_test = df_single_user[length_prev: length_prev+length_test]\n",
    "    lst_test.append(df_test)\n",
    "    test_batches.append(len(df_test))\n",
    "\n",
    "test = pd.concat(lst_test, axis = 0)\n",
    "del lst_test"
   ]
  },
  {
   "cell_type": "code",
   "execution_count": 68,
   "id": "1d00d245",
   "metadata": {},
   "outputs": [],
   "source": [
    "batches = pd.DataFrame({'train': train_batches, 'validation': valid_batches, 'testing': test_batches}) "
   ]
  },
  {
   "cell_type": "code",
   "execution_count": 69,
   "id": "ccca2c6e",
   "metadata": {},
   "outputs": [
    {
     "data": {
      "text/html": [
       "<div>\n",
       "<style scoped>\n",
       "    .dataframe tbody tr th:only-of-type {\n",
       "        vertical-align: middle;\n",
       "    }\n",
       "\n",
       "    .dataframe tbody tr th {\n",
       "        vertical-align: top;\n",
       "    }\n",
       "\n",
       "    .dataframe thead th {\n",
       "        text-align: right;\n",
       "    }\n",
       "</style>\n",
       "<table border=\"1\" class=\"dataframe\">\n",
       "  <thead>\n",
       "    <tr style=\"text-align: right;\">\n",
       "      <th></th>\n",
       "      <th>train</th>\n",
       "      <th>validation</th>\n",
       "      <th>testing</th>\n",
       "    </tr>\n",
       "  </thead>\n",
       "  <tbody>\n",
       "    <tr>\n",
       "      <th>0</th>\n",
       "      <td>71208</td>\n",
       "      <td>9000</td>\n",
       "      <td>8488</td>\n",
       "    </tr>\n",
       "    <tr>\n",
       "      <th>1</th>\n",
       "      <td>64552</td>\n",
       "      <td>7976</td>\n",
       "      <td>7720</td>\n",
       "    </tr>\n",
       "    <tr>\n",
       "      <th>2</th>\n",
       "      <td>64296</td>\n",
       "      <td>7976</td>\n",
       "      <td>7720</td>\n",
       "    </tr>\n",
       "    <tr>\n",
       "      <th>3</th>\n",
       "      <td>55592</td>\n",
       "      <td>6952</td>\n",
       "      <td>6696</td>\n",
       "    </tr>\n",
       "    <tr>\n",
       "      <th>4</th>\n",
       "      <td>54056</td>\n",
       "      <td>6696</td>\n",
       "      <td>6440</td>\n",
       "    </tr>\n",
       "    <tr>\n",
       "      <th>...</th>\n",
       "      <td>...</td>\n",
       "      <td>...</td>\n",
       "      <td>...</td>\n",
       "    </tr>\n",
       "    <tr>\n",
       "      <th>181</th>\n",
       "      <td>4648</td>\n",
       "      <td>552</td>\n",
       "      <td>296</td>\n",
       "    </tr>\n",
       "    <tr>\n",
       "      <th>182</th>\n",
       "      <td>4648</td>\n",
       "      <td>552</td>\n",
       "      <td>296</td>\n",
       "    </tr>\n",
       "    <tr>\n",
       "      <th>183</th>\n",
       "      <td>4392</td>\n",
       "      <td>552</td>\n",
       "      <td>296</td>\n",
       "    </tr>\n",
       "    <tr>\n",
       "      <th>184</th>\n",
       "      <td>4136</td>\n",
       "      <td>552</td>\n",
       "      <td>296</td>\n",
       "    </tr>\n",
       "    <tr>\n",
       "      <th>185</th>\n",
       "      <td>4136</td>\n",
       "      <td>552</td>\n",
       "      <td>296</td>\n",
       "    </tr>\n",
       "  </tbody>\n",
       "</table>\n",
       "<p>186 rows × 3 columns</p>\n",
       "</div>"
      ],
      "text/plain": [
       "     train  validation  testing\n",
       "0    71208        9000     8488\n",
       "1    64552        7976     7720\n",
       "2    64296        7976     7720\n",
       "3    55592        6952     6696\n",
       "4    54056        6696     6440\n",
       "..     ...         ...      ...\n",
       "181   4648         552      296\n",
       "182   4648         552      296\n",
       "183   4392         552      296\n",
       "184   4136         552      296\n",
       "185   4136         552      296\n",
       "\n",
       "[186 rows x 3 columns]"
      ]
     },
     "execution_count": 69,
     "metadata": {},
     "output_type": "execute_result"
    }
   ],
   "source": [
    "batches"
   ]
  },
  {
   "cell_type": "code",
   "execution_count": 70,
   "id": "5a16a501",
   "metadata": {},
   "outputs": [
    {
     "data": {
      "text/plain": [
       "186"
      ]
     },
     "execution_count": 70,
     "metadata": {},
     "output_type": "execute_result"
    }
   ],
   "source": [
    "(user_length['count'] - (np.array(test_batches) + np.array(train_batches) + np.array(valid_batches)) >= 0).sum()"
   ]
  },
  {
   "cell_type": "code",
   "execution_count": 71,
   "id": "9643a4b7",
   "metadata": {},
   "outputs": [],
   "source": [
    "train.to_csv('cleaned_data/model_training_MQ&RQ1/training_data_each_user_batch256_steps20.csv')\n",
    "test.to_csv('cleaned_data/model_training_MQ&RQ1/testing_data_each_user_batch256_steps20.csv')\n",
    "valid.to_csv('cleaned_data/model_training_MQ&RQ1/validation_data_each_user_batch256_steps20.csv')\n",
    "batches.to_csv('cleaned_data/model_training_MQ&RQ1/batch_size_each_user_batch256_steps20.csv')"
   ]
  }
 ],
 "metadata": {
  "kernelspec": {
   "display_name": "Python 3 (ipykernel)",
   "language": "python",
   "name": "python3"
  },
  "language_info": {
   "codemirror_mode": {
    "name": "ipython",
    "version": 3
   },
   "file_extension": ".py",
   "mimetype": "text/x-python",
   "name": "python",
   "nbconvert_exporter": "python",
   "pygments_lexer": "ipython3",
   "version": "3.8.10"
  }
 },
 "nbformat": 4,
 "nbformat_minor": 5
}
